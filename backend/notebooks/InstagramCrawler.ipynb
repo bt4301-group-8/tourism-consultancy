{
 "cells": [
  {
   "cell_type": "code",
   "execution_count": 1,
   "metadata": {},
   "outputs": [
    {
     "name": "stdout",
     "output_type": "stream",
     "text": [
      "/Users/aldensio/Desktop/Projects/tourism-consultancy\n"
     ]
    }
   ],
   "source": [
    "%cd ../.."
   ]
  },
  {
   "cell_type": "code",
   "execution_count": 2,
   "metadata": {},
   "outputs": [],
   "source": [
    "from backend.src.instagram import InstagramCrawler"
   ]
  },
  {
   "cell_type": "code",
   "execution_count": 3,
   "metadata": {},
   "outputs": [
    {
     "name": "stderr",
     "output_type": "stream",
     "text": [
      "INFO - successfully logged in via session\n"
     ]
    }
   ],
   "source": [
    "ic = InstagramCrawler()"
   ]
  },
  {
   "cell_type": "code",
   "execution_count": 7,
   "metadata": {},
   "outputs": [
    {
     "name": "stderr",
     "output_type": "stream",
     "text": [
      "INFO - new city found: hongkong\n",
      "INFO - added 312 new posts to city posts\n"
     ]
    }
   ],
   "source": [
    "success = ic.get_and_write_to_city_posts_hashtag(\n",
    "    hashtags=[\"hongkong\"],\n",
    "    amount=500,\n",
    ")"
   ]
  },
  {
   "cell_type": "code",
   "execution_count": 6,
   "metadata": {},
   "outputs": [
    {
     "name": "stderr",
     "output_type": "stream",
     "text": [
      "Status 201: JSONDecodeError in public_request (url=https://www.instagram.com/explore/locations/107733802589658/?__a=1&__d=dis) >>> \n",
      "Status 201: JSONDecodeError in public_request (url=https://www.instagram.com/explore/locations/107733802589658/?__a=1&__d=dis) >>> \n",
      "Status 201: JSONDecodeError in public_request (url=https://www.instagram.com/explore/locations/107733802589658/?__a=1&__d=dis) >>> \n",
      "INFO - new city found: beijing\n",
      "INFO - added 24 new posts to city posts\n"
     ]
    }
   ],
   "source": [
    "res = ic.get_and_write_to_city_posts_location(\n",
    "    city_name=\"beijing\",\n",
    "    amount=200\n",
    ")"
   ]
  },
  {
   "cell_type": "code",
   "execution_count": null,
   "metadata": {},
   "outputs": [],
   "source": []
  }
 ],
 "metadata": {
  "kernelspec": {
   "display_name": "Python 3",
   "language": "python",
   "name": "python3"
  },
  "language_info": {
   "codemirror_mode": {
    "name": "ipython",
    "version": 3
   },
   "file_extension": ".py",
   "mimetype": "text/x-python",
   "name": "python",
   "nbconvert_exporter": "python",
   "pygments_lexer": "ipython3",
   "version": "3.11.5"
  }
 },
 "nbformat": 4,
 "nbformat_minor": 2
}
