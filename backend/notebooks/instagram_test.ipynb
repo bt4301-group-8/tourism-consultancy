{
 "cells": [
  {
   "cell_type": "code",
   "execution_count": null,
   "metadata": {},
   "outputs": [],
   "source": [
    "import logging\n",
    "import os\n",
    "\n",
    "from instagrapi import Client\n",
    "from instagrapi.exceptions import LoginRequired\n",
    "from typing import List, Dict, Literal\n",
    "\n",
    "logger = logging.getLogger()"
   ]
  },
  {
   "cell_type": "code",
   "execution_count": null,
   "metadata": {},
   "outputs": [],
   "source": [
    "ACCOUNT_USERNAME = os.getenv(\"ACCOUNT_USERNAME\")\n",
    "ACCOUNT_PASSWORD = os.getenv(\"ACCOUNT_PASSWORD\")"
   ]
  },
  {
   "cell_type": "code",
   "execution_count": null,
   "metadata": {},
   "outputs": [],
   "source": [
    "# cl = Client()\n",
    "# cl.login(ACCOUNT_USERNAME, ACCOUNT_PASSWORD)\n",
    "# cl.dump_settings(\"session.json\")"
   ]
  },
  {
   "cell_type": "code",
   "execution_count": null,
   "metadata": {},
   "outputs": [],
   "source": [
    "def login_user(\n",
    "    USERNAME: str = ACCOUNT_USERNAME,\n",
    "    PASSWORD: str = ACCOUNT_PASSWORD,\n",
    "    delay_range: List[int] = [1, 3],\n",
    "):\n",
    "    \"\"\"\n",
    "    Attempts to login to Instagram using either the provided session information\n",
    "    or the provided username and password.\n",
    "    \"\"\"\n",
    "\n",
    "    cl = Client()\n",
    "    session = cl.load_settings(\"session.json\")\n",
    "\n",
    "    login_via_session = False\n",
    "    login_via_pw = False\n",
    "\n",
    "    if session:\n",
    "        try:\n",
    "            cl.set_settings(session)\n",
    "            cl.login(USERNAME, PASSWORD)\n",
    "\n",
    "            # check if session is valid\n",
    "            try:\n",
    "                cl.get_timeline_feed()\n",
    "            except LoginRequired:\n",
    "                logger.info(\"Session is invalid, need to login via username and password\")\n",
    "\n",
    "                old_session = cl.get_settings()\n",
    "\n",
    "                # use the same device uuids across logins\n",
    "                cl.set_settings({})\n",
    "                cl.set_uuids(old_session[\"uuids\"])\n",
    "\n",
    "                cl.login(USERNAME, PASSWORD)\n",
    "            login_via_session = True\n",
    "            cl.delay_range = delay_range\n",
    "            return cl\n",
    "        except Exception as e:\n",
    "            logger.info(\"Couldn't login user using session information: %s\" % e)\n",
    "\n",
    "    if not login_via_session:\n",
    "        try:\n",
    "            logger.info(\"Attempting to login via username and password. username: %s\" % USERNAME)\n",
    "            if cl.login(USERNAME, PASSWORD):\n",
    "                login_via_pw = True\n",
    "        except Exception as e:\n",
    "            logger.info(\"Couldn't login user using username and password: %s\" % e)\n",
    "\n",
    "    if not login_via_pw and not login_via_session:\n",
    "        raise Exception(\"Couldn't login user with either password or session\")"
   ]
  },
  {
   "cell_type": "code",
   "execution_count": null,
   "metadata": {},
   "outputs": [],
   "source": [
    "cl = login_user()"
   ]
  },
  {
   "cell_type": "code",
   "execution_count": null,
   "metadata": {},
   "outputs": [],
   "source": [
    "def get_media_info(media):\n",
    "    return {\n",
    "        \"date\": media.taken_at or \"\",\n",
    "        \"location\": media.location or \"\",\n",
    "        \"caption\": media.caption_text or \"\",\n",
    "        \"comment_count\": media.comment_count or 0,\n",
    "        \"like_count\": media.like_count or 0,\n",
    "        \"play_count\": media.play_count or 0,\n",
    "    }\n",
    "\n",
    "def get_all_media_info(medias):\n",
    "    return [get_media_info(media) for media in medias]"
   ]
  },
  {
   "cell_type": "code",
   "execution_count": null,
   "metadata": {},
   "outputs": [],
   "source": [
    "\"\"\" \n",
    "refer to this api link: https://subzeroid.github.io/instagrapi/usage-guide/hashtag.html\n",
    "\"\"\"\n",
    "def get_media_by_hashtags(\n",
    "    cl,\n",
    "    hashtags: List[str],\n",
    "    classification: Literal[\"recent\", \"top\"] = \"top\",\n",
    "    amount: int = 100,\n",
    "):\n",
    "    media_dict = dict()\n",
    "    for hashtag in hashtags:\n",
    "        # get the top hashtags\n",
    "        if classification == \"top\":\n",
    "            media = cl.hashtag_medias_top(hashtag, amount)\n",
    "        else:\n",
    "            media = cl.hashtag_medias_recent(hashtag, amount)\n",
    "        # get the relevant info from media\n",
    "        all_hashtag_info = get_all_media_info(media)\n",
    "        media_dict[hashtag] = all_hashtag_info\n",
    "    return media_dict"
   ]
  },
  {
   "cell_type": "code",
   "execution_count": null,
   "metadata": {},
   "outputs": [],
   "source": [
    "media_dict = get_media_by_hashtags(\n",
    "    cl,\n",
    "    [\"tokyo\", \"paris\"],\n",
    "    amount=1,\n",
    ")"
   ]
  },
  {
   "cell_type": "code",
   "execution_count": null,
   "metadata": {},
   "outputs": [],
   "source": [
    "media_dict"
   ]
  },
  {
   "cell_type": "code",
   "execution_count": null,
   "metadata": {},
   "outputs": [],
   "source": []
  }
 ],
 "metadata": {
  "kernelspec": {
   "display_name": "Python 3",
   "language": "python",
   "name": "python3"
  },
  "language_info": {
   "codemirror_mode": {
    "name": "ipython",
    "version": 3
   },
   "file_extension": ".py",
   "mimetype": "text/x-python",
   "name": "python",
   "nbconvert_exporter": "python",
   "pygments_lexer": "ipython3",
   "version": "3.11.5"
  }
 },
 "nbformat": 4,
 "nbformat_minor": 2
}
