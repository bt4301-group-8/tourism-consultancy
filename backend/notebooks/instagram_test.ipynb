{
 "cells": [
  {
   "cell_type": "code",
   "execution_count": 1,
   "metadata": {},
   "outputs": [],
   "source": [
    "import logging\n",
    "import os\n",
    "\n",
    "from instagrapi import Client\n",
    "from instagrapi.exceptions import LoginRequired\n",
    "\n",
    "logger = logging.getLogger()"
   ]
  },
  {
   "cell_type": "code",
   "execution_count": 2,
   "metadata": {},
   "outputs": [],
   "source": [
    "ACCOUNT_USERNAME = os.getenv(\"ACCOUNT_USERNAME\")\n",
    "ACCOUNT_PASSWORD = os.getenv(\"ACCOUNT_PASSWORD\")"
   ]
  },
  {
   "cell_type": "code",
   "execution_count": null,
   "metadata": {},
   "outputs": [
    {
     "data": {
      "text/plain": [
       "True"
      ]
     },
     "execution_count": 3,
     "metadata": {},
     "output_type": "execute_result"
    }
   ],
   "source": [
    "# cl = Client()\n",
    "# cl.login(ACCOUNT_USERNAME, ACCOUNT_PASSWORD)\n",
    "# cl.dump_settings(\"session.json\")"
   ]
  },
  {
   "cell_type": "code",
   "execution_count": 4,
   "metadata": {},
   "outputs": [],
   "source": [
    "def login_user(\n",
    "    USERNAME: str = ACCOUNT_USERNAME,\n",
    "    PASSWORD: str = ACCOUNT_PASSWORD,\n",
    "):\n",
    "    \"\"\"\n",
    "    Attempts to login to Instagram using either the provided session information\n",
    "    or the provided username and password.\n",
    "    \"\"\"\n",
    "\n",
    "    cl = Client()\n",
    "    session = cl.load_settings(\"session.json\")\n",
    "\n",
    "    login_via_session = False\n",
    "    login_via_pw = False\n",
    "\n",
    "    if session:\n",
    "        try:\n",
    "            cl.set_settings(session)\n",
    "            cl.login(USERNAME, PASSWORD)\n",
    "\n",
    "            # check if session is valid\n",
    "            try:\n",
    "                cl.get_timeline_feed()\n",
    "            except LoginRequired:\n",
    "                logger.info(\"Session is invalid, need to login via username and password\")\n",
    "\n",
    "                old_session = cl.get_settings()\n",
    "\n",
    "                # use the same device uuids across logins\n",
    "                cl.set_settings({})\n",
    "                cl.set_uuids(old_session[\"uuids\"])\n",
    "\n",
    "                cl.login(USERNAME, PASSWORD)\n",
    "            login_via_session = True\n",
    "            return cl\n",
    "        except Exception as e:\n",
    "            logger.info(\"Couldn't login user using session information: %s\" % e)\n",
    "\n",
    "    if not login_via_session:\n",
    "        try:\n",
    "            logger.info(\"Attempting to login via username and password. username: %s\" % USERNAME)\n",
    "            if cl.login(USERNAME, PASSWORD):\n",
    "                login_via_pw = True\n",
    "        except Exception as e:\n",
    "            logger.info(\"Couldn't login user using username and password: %s\" % e)\n",
    "\n",
    "    if not login_via_pw and not login_via_session:\n",
    "        raise Exception(\"Couldn't login user with either password or session\")"
   ]
  },
  {
   "cell_type": "code",
   "execution_count": 5,
   "metadata": {},
   "outputs": [],
   "source": [
    "cl = login_user()"
   ]
  },
  {
   "cell_type": "code",
   "execution_count": 37,
   "metadata": {},
   "outputs": [],
   "source": [
    "medias = cl.hashtag_medias_top('japan', amount=10)"
   ]
  },
  {
   "cell_type": "code",
   "execution_count": 38,
   "metadata": {},
   "outputs": [],
   "source": [
    "def get_media_info(media):\n",
    "    return {\n",
    "        \"date\": media.taken_at or \"\",\n",
    "        \"location\": media.location or \"\",\n",
    "        \"caption\": media.caption_text or \"\",\n",
    "        \"comment_count\": media.comment_count or 0,\n",
    "        \"like_count\": media.like_count or 0,\n",
    "        \"play_count\": media.play_count or 0,\n",
    "    }\n",
    "\n",
    "def get_all_media_info(medias):\n",
    "    return [get_media_info(media) for media in medias]"
   ]
  },
  {
   "cell_type": "code",
   "execution_count": 39,
   "metadata": {},
   "outputs": [],
   "source": [
    "infos = get_all_media_info(medias)"
   ]
  },
  {
   "cell_type": "code",
   "execution_count": 40,
   "metadata": {},
   "outputs": [
    {
     "data": {
      "text/plain": [
       "[{'date': datetime.datetime(2025, 3, 4, 12, 48, 55, tzinfo=TzInfo(UTC)),\n",
       "  'location': '',\n",
       "  'caption': \"Chitato loves Taro's fluffy feathers🐦♡\\nチタトお得意暖泥棒、必ずバレるやつ😂\\n.\\n.\\n.\\n#文鳥株式会社 #文鳥 #ペット #birdlover #京都 #instabird #小鳥 #javasparrow #buncho #birdlovers #indonesia #burung #japan #kyoto #petstagram #cutepetclub #cutepets #cute #pet #birdstagram #鳥 #文鳥株式会社京都本社\",\n",
       "  'comment_count': 3,\n",
       "  'like_count': 463,\n",
       "  'play_count': 2464},\n",
       " {'date': datetime.datetime(2025, 3, 3, 14, 23, 34, tzinfo=TzInfo(UTC)),\n",
       "  'location': Location(pk=232436753970280, name='Tokyo Shibuya Crossing', phone='', website='', category='', hours={}, address='2 Chome-24-1 Shibuya', city='Shibuya, Tokyo', zip=None, lng=139.70283508301, lat=35.660736625586, external_id=232436753970280, external_id_source='facebook_places'),\n",
       "  'caption': '⬇️ VALORES E INFORMAÇÕES\\n\\nAS CAPINHAS VIRAIS DO JAPÃO! 🇯🇵 \\n\\nA @caspace_official viralizou nas redes sociais com essas capinhas de celular super estilosas pq trazem várias coisas super icônicas do Japão😁 Desde as máquinas de bebida, até os gachas, o metrô de Tóquio e várias outras de bebidas clássicas daqui, é difícil escolher uma só pq todas são mt mt legais. \\n\\nOs valores são a partir de ¥3,980 (+-R$156) - mesmo para as que se mexem/tem líquido. A da máquina de bebidas por exemplo é esse preço. Mas dá pra ver no site deles tb 😉 Além disso, elas são super resistentes mesmo e protegem bem o celular, tô super satisfeito e fiquei muito feliz com essa oportunidade de conhecer a marca. É um presente legal, e uma lembrancinha legal da viagem!\\n\\n📍cas:pace - Harajuku\\n1fb Kuwabara Building, 3-24-3 Jingumae, Shibuya-ku, Tokyo, Shibuya\\n\\n#japao #japão #japan #tokyo #curiosidade #viagem #turismo',\n",
       "  'comment_count': 11,\n",
       "  'like_count': 620,\n",
       "  'play_count': 15700},\n",
       " {'date': datetime.datetime(2025, 3, 4, 14, 0, 52, tzinfo=TzInfo(UTC)),\n",
       "  'location': '',\n",
       "  'caption': 'おやすみ🌙💤\\n잘 자💓\\n\\n#martialartsgirls #Korean #Japan #セーラー服',\n",
       "  'comment_count': 70,\n",
       "  'like_count': 3,\n",
       "  'play_count': 0},\n",
       " {'date': datetime.datetime(2025, 3, 4, 11, 10, 1, tzinfo=TzInfo(UTC)),\n",
       "  'location': Location(pk=3841573, name='bills お台場', phone='', website='', category='', hours={}, address='台場1-6-1', city='Minato', zip=None, lng=139.77634171922, lat=35.629692612797, external_id=170279243037860, external_id_source='facebook_places'),\n",
       "  'caption': 'お台場モーニング☕️🥞🍴\\n\\n #お台場  #モーニングカフェ  #モーニング  #bills',\n",
       "  'comment_count': 55,\n",
       "  'like_count': 1057,\n",
       "  'play_count': 0},\n",
       " {'date': datetime.datetime(2025, 3, 3, 16, 40, 43, tzinfo=TzInfo(UTC)),\n",
       "  'location': Location(pk=632595636934185, name='Japan', phone='', website='', category='', hours={}, address='', city='', zip=None, lng=139.69925571, lat=35.68875391, external_id=632595636934185, external_id_source='facebook_places'),\n",
       "  'caption': '🌸 Cherry blossom season is starting in Japan, and if you’re planning to capture it, here are 5 must-know tips to get the perfect sakura shots:\\n\\n1️⃣ Plan Ahead – Sakura bloom for only a short time! Check online cherry blossom trackers to see peak bloom predictions across Japan so you don’t miss the moment.\\n\\n2️⃣ Shoot During Soft Light – Golden hour and overcast days bring out those dreamy pink hues without harsh shadows.\\n\\n3️⃣ Use a Telephoto Lens – Compress the scene to make the blossoms look fuller and create beautiful layers in your composition.\\n\\n4️⃣ Get Creative with Angles – Try shooting through branches for a natural frame, capturing petals floating in the air, or using reflections in water.\\n\\n5️⃣ Incorporate Japanese Elements – Temples, torii gates, or traditional kimonos add cultural depth to your shots and make them more visually compelling.\\n\\nSakura aren’t just flowers—they symbolize the fleeting beauty of life, making them one of Japan’s most meaningful subjects to photograph. \\n\\nWho else would love to experience sakura season in Japan? \\n\\nPhotos shot on: @canonusa R5, 24-70mm\\n\\n#photographer #roamtheplanet #travelphotography #japan #cherryblossom #sakura #discoverearth #photographytips',\n",
       "  'comment_count': 42,\n",
       "  'like_count': 3,\n",
       "  'play_count': 0},\n",
       " {'date': datetime.datetime(2025, 3, 2, 23, 25, 19, tzinfo=TzInfo(UTC)),\n",
       "  'location': '',\n",
       "  'caption': '1k of NPC 😐\\n->Follow @jinwoo For More!\\n•\\n•\\nVia @animelif3_ \\n•\\n• \\n#sololeveling #onepiece #sungjinwoo #chahaein #anime #manhwa #otaku #naruto #sololevelingmanhwa #webtoon #sasuke #zoro #explore #luffy #jinwoo #demonslayer #levi #aot #eren #yuji #jjk #Manga #japan #jinwoo',\n",
       "  'comment_count': 209,\n",
       "  'like_count': 6966,\n",
       "  'play_count': 0},\n",
       " {'date': datetime.datetime(2025, 3, 3, 18, 45, 53, tzinfo=TzInfo(UTC)),\n",
       "  'location': '',\n",
       "  'caption': 'Hemos probado @suntaka.bcn, una de las mejores izakayas de la ciudad.\\n\\nTe recomendamos:\\n\\n📍Reservar en la barra ¡es un espectáculo!\\n🍣 Prueba sí o sí la panceta estilo japonés y, como no, el sushi. Los mejores nigiris son los de gamba roja y el de wagyu A5.\\n💰Calcula unos 50-60 euros por persona.\\n\\n#bestburgerbcn #japan #sushi #izakaya #Barcelona',\n",
       "  'comment_count': 13,\n",
       "  'like_count': 573,\n",
       "  'play_count': 32916},\n",
       " {'date': datetime.datetime(2025, 3, 4, 11, 15, tzinfo=TzInfo(UTC)),\n",
       "  'location': Location(pk=1032102496, name='富士山夢の大橋', phone='', website='', category='', hours={}, address='', city='', zip=None, lng=138.67603, lat=35.151474, external_id=1168203623191314, external_id_source='facebook_places'),\n",
       "  'caption': '今日は富士山に雪降ってるかなー\\n\\n📍#静岡県 #富士市 #富士山夢の大橋\\n\\n#富士山 #富士山夢の大橋 #絶景\\n#世界遺産  #走行動画\\n#パワースポット #富士 #ドライブ\\n#mountains #mountainview \\n#mountfuji #fujisan🗻 #nippon \\n#fujiyama #fuji #drive #japan #fuji',\n",
       "  'comment_count': 22,\n",
       "  'like_count': 728,\n",
       "  'play_count': 6512},\n",
       " {'date': datetime.datetime(2025, 3, 4, 11, 41, 58, tzinfo=TzInfo(UTC)),\n",
       "  'location': '',\n",
       "  'caption': 'Hello 🤗 #hellboy #comics  #artreels #watercolorpainting #watercolor #watercolorartist #artofjapan #asianart #mangastyle #animestyle #水彩 #japan #artreels  #sketchbook',\n",
       "  'comment_count': 6,\n",
       "  'like_count': 427,\n",
       "  'play_count': 4941},\n",
       " {'date': datetime.datetime(2025, 3, 4, 7, 43, 5, tzinfo=TzInfo(UTC)),\n",
       "  'location': '',\n",
       "  'caption': 'New🧡【日本商店推出肥耳仔Usagi周邊！】衛衣/T-shirt/迷你毛巾/馬克杯陶瓷杯/帽！\\n\\n日本Talking Heads ODM JP線上商店，販售各種以人氣角色為主題的週邊商品，包括 Chiikawa、NAGANO KUMA 自嘲熊、可愛的謊言水獺等知名卡通角色。今次竟然出售Usagi兔兔周邊，以新設計「兔兔耳朵為主題」，有Usagi各種各樣嘅耳朵，包括大耳朵、正常耳朵、軟耳朵、毛茸茸耳朵、薄耳朵等，其中大耳朵突顯兔兔越食越肥，真係超搞笑可愛！而主題商品有T-shirt、帽 Tee、連帽外套、托特包、馬克杯、迷你毛巾等，各位粉絲記得去買啦！\\n\\n購買連結：https://odm-shop.talkingheads.biz/',\n",
       "  'comment_count': 3,\n",
       "  'like_count': 1840,\n",
       "  'play_count': 0}]"
      ]
     },
     "execution_count": 40,
     "metadata": {},
     "output_type": "execute_result"
    }
   ],
   "source": [
    "infos"
   ]
  },
  {
   "cell_type": "code",
   "execution_count": null,
   "metadata": {},
   "outputs": [],
   "source": []
  }
 ],
 "metadata": {
  "kernelspec": {
   "display_name": "Python 3",
   "language": "python",
   "name": "python3"
  },
  "language_info": {
   "codemirror_mode": {
    "name": "ipython",
    "version": 3
   },
   "file_extension": ".py",
   "mimetype": "text/x-python",
   "name": "python",
   "nbconvert_exporter": "python",
   "pygments_lexer": "ipython3",
   "version": "3.11.5"
  }
 },
 "nbformat": 4,
 "nbformat_minor": 2
}
