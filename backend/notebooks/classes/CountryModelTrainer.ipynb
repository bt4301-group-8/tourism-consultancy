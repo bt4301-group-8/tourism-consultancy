{
 "cells": [
  {
   "cell_type": "code",
   "execution_count": null,
   "metadata": {},
   "outputs": [],
   "source": [
    "%cd ../../.."
   ]
  },
  {
   "cell_type": "markdown",
   "metadata": {},
   "source": [
    "## `CountryModelTrainer`\n",
    "1. `run_training()` trains a model for EACH & EVERY country\n",
    "\n",
    "2. `train_for_country(csv_path=\"COUNTRY_CSV_PATH_HERE\")` trains a model for the specified country/csv\n",
    "\n",
    "3. `monitor_input_drift(run_id=\"MODEL_RUN_ID_HERE\", new_data=\"NEW_PANDAS_DATAFRAME_HERE\")` can be invoked to check for input drift (choose a model, and provide new data)"
   ]
  },
  {
   "cell_type": "code",
   "execution_count": null,
   "metadata": {},
   "outputs": [],
   "source": [
    "from backend.src.model import CountryModelTrainer"
   ]
  },
  {
   "cell_type": "code",
   "execution_count": null,
   "metadata": {},
   "outputs": [],
   "source": [
    "cmt = CountryModelTrainer()"
   ]
  },
  {
   "cell_type": "code",
   "execution_count": null,
   "metadata": {},
   "outputs": [],
   "source": [
    "# for ALL countries\n",
    "cmt.run_training()\n",
    "\n",
    "# # for a specific country\n",
    "# cmt.train_for_country(\n",
    "#     csv_path=\"backend/data/countries/philippines_final_df.csv\",\n",
    "# )"
   ]
  },
  {
   "cell_type": "markdown",
   "metadata": {},
   "source": [
    "## Simulating new data being gathered"
   ]
  },
  {
   "cell_type": "code",
   "execution_count": null,
   "metadata": {},
   "outputs": [],
   "source": [
    "import pandas as pd"
   ]
  },
  {
   "cell_type": "code",
   "execution_count": 6,
   "metadata": {},
   "outputs": [],
   "source": [
    "new_data = pd.DataFrame(\n",
    "    {\n",
    "        \"month_year\": [\"2025-02-01\"],\n",
    "        \"num_visitors\": [65000],\n",
    "        \"log_visitors\": [4.81291],\n",
    "        \"month\": [2],\n",
    "        \"year\": [2025],\n",
    "        \"is_monsoon_season\": [0],\n",
    "        \"ig_sentiment\": [0.88888888],\n",
    "        \"ig_sentiment_lag1\": [0.666326153066396],\n",
    "        \"ig_sentiment_z\": [0.18889999999],\n",
    "        \"reddit_sentiment_z\": [0.9000],                    \n",
    "        \"reddit_sentiment_lag1\": [0.663434519794602],\n",
    "        \"trip_advisor_rating\": [88],\n",
    "        \"trip_advisor_rating_lag1\": [4.38888888888889],\n",
    "        \"log_avg_currency_rate\": [0.814259502633062],\n",
    "        \"log_avg_currency_rate_lag1\": [0.854259502633062],\n",
    "        \"google_trend_score\": [2.0],\n",
    "        \"google_trend_score_lag1\": [1.0],\n",
    "    }\n",
    ")"
   ]
  },
  {
   "cell_type": "code",
   "execution_count": 7,
   "metadata": {},
   "outputs": [
    {
     "name": "stderr",
     "output_type": "stream",
     "text": [
      "INFO - [monitoring] starting input drift check for run_id: 9fc5f7e2907b47b7b927a7e3128df5f8\n",
      "/Users/aldensio/Desktop/Projects/tourism-consultancy/.venv/lib/python3.11/site-packages/tqdm/auto.py:21: TqdmWarning: IProgress not found. Please update jupyter and ipywidgets. See https://ipywidgets.readthedocs.io/en/stable/user_install.html\n",
      "  from .autonotebook import tqdm as notebook_tqdm\n",
      "Downloading artifacts: 100%|██████████| 10/10 [00:00<00:00, 625.82it/s]\n",
      "WARNING - [monitoring] not enough common categories for 'is_monsoon_season'\n",
      "INFO - [monitoring] drift check complete: 0/11 features drifted\n"
     ]
    }
   ],
   "source": [
    "drift_detected = cmt.monitor_input_drift(\n",
    "    run_id=\"9fc5f7e2907b47b7b927a7e3128df5f8\",\n",
    "    new_data=new_data,\n",
    ")"
   ]
  },
  {
   "cell_type": "code",
   "execution_count": 8,
   "metadata": {},
   "outputs": [
    {
     "data": {
      "text/plain": [
       "{'is_monsoon_season': False,\n",
       " 'ig_sentiment_lag1': False,\n",
       " 'ig_sentiment_z': False,\n",
       " 'reddit_sentiment_z': False,\n",
       " 'reddit_sentiment_lag1': False,\n",
       " 'trip_advisor_rating': False,\n",
       " 'trip_advisor_rating_lag1': False,\n",
       " 'log_avg_currency_rate': False,\n",
       " 'log_avg_currency_rate_lag1': False,\n",
       " 'google_trend_score': False,\n",
       " 'google_trend_score_lag1': False}"
      ]
     },
     "execution_count": 8,
     "metadata": {},
     "output_type": "execute_result"
    }
   ],
   "source": [
    "drift_detected"
   ]
  },
  {
   "cell_type": "code",
   "execution_count": null,
   "metadata": {},
   "outputs": [],
   "source": []
  }
 ],
 "metadata": {
  "kernelspec": {
   "display_name": ".venv",
   "language": "python",
   "name": "python3"
  },
  "language_info": {
   "codemirror_mode": {
    "name": "ipython",
    "version": 3
   },
   "file_extension": ".py",
   "mimetype": "text/x-python",
   "name": "python",
   "nbconvert_exporter": "python",
   "pygments_lexer": "ipython3",
   "version": "3.11.5"
  }
 },
 "nbformat": 4,
 "nbformat_minor": 2
}
