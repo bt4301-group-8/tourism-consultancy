{
 "cells": [
  {
   "cell_type": "code",
   "execution_count": 1,
   "metadata": {},
   "outputs": [
    {
     "name": "stdout",
     "output_type": "stream",
     "text": [
      "/Users/aldensio/Desktop/Projects/tourism-consultancy\n"
     ]
    }
   ],
   "source": [
    "%cd ../../.."
   ]
  },
  {
   "cell_type": "code",
   "execution_count": 2,
   "metadata": {},
   "outputs": [],
   "source": [
    "from backend.src.model import CountryModelTrainer"
   ]
  },
  {
   "cell_type": "code",
   "execution_count": 3,
   "metadata": {},
   "outputs": [
    {
     "name": "stderr",
     "output_type": "stream",
     "text": [
      "INFO - output directory set to: backend/trained_models/\n"
     ]
    }
   ],
   "source": [
    "cmt = CountryModelTrainer()"
   ]
  },
  {
   "cell_type": "code",
   "execution_count": 4,
   "metadata": {},
   "outputs": [
    {
     "name": "stderr",
     "output_type": "stream",
     "text": [
      "INFO - found 10 country csvs in backend/data/processed/countries/ matching '*_final_df.csv'\n",
      "INFO - features selected for laos: ['avg_currency_rate', 'google_trend_score', 'trip_advisor_rating', 'log_currency', 'reddit_sentiment_z', 'ig_sentiment_z', 'is_holiday', 'is_monsoon_season', 'google_trend_score_lag1', 'avg_currency_rate_lag1', 'reddit_sentiment_lag1', 'ig_sentiment_lag1']\n",
      "INFO - [HP Tuning] starting hp optimization for laos...\n"
     ]
    },
    {
     "name": "stdout",
     "output_type": "stream",
     "text": [
      "100%|██████████| 50/50 [00:26<00:00,  1.89trial/s, best loss: 0.3886457166000844] "
     ]
    },
    {
     "name": "stderr",
     "output_type": "stream",
     "text": [
      "INFO - [HP Results] best cross-validation rmse (log_visitors scale): 0.3886\n",
      "INFO - [Training] training final model for LAOS using best parameters...\n"
     ]
    },
    {
     "name": "stdout",
     "output_type": "stream",
     "text": [
      "\n",
      "[0]\ttrain-rmse:0.52308\teval-rmse:0.66075\n",
      "[100]\ttrain-rmse:0.28758\teval-rmse:0.44712\n",
      "[200]\ttrain-rmse:0.19189\teval-rmse:0.36649\n",
      "[300]\ttrain-rmse:0.14876\teval-rmse:0.33665\n",
      "[400]\ttrain-rmse:0.12598\teval-rmse:0.32366\n",
      "[500]\ttrain-rmse:0.11263\teval-rmse:0.31704\n",
      "[600]\ttrain-rmse:0.10574\teval-rmse:0.31357\n",
      "[665]\ttrain-rmse:0.10341\teval-rmse:0.31380\n"
     ]
    },
    {
     "name": "stderr",
     "output_type": "stream",
     "text": [
      "INFO - features selected for malaysia: ['avg_currency_rate', 'google_trend_score', 'trip_advisor_rating', 'log_currency', 'reddit_sentiment_z', 'ig_sentiment_z', 'is_holiday', 'is_monsoon_season', 'google_trend_score_lag1', 'avg_currency_rate_lag1', 'reddit_sentiment_lag1', 'ig_sentiment_lag1']\n",
      "INFO - [HP Tuning] starting hp optimization for malaysia...\n"
     ]
    },
    {
     "name": "stdout",
     "output_type": "stream",
     "text": [
      "100%|██████████| 50/50 [00:25<00:00,  1.93trial/s, best loss: 0.424816134627026]  "
     ]
    },
    {
     "name": "stderr",
     "output_type": "stream",
     "text": [
      "INFO - [HP Results] best cross-validation rmse (log_visitors scale): 0.4248\n",
      "INFO - [Training] training final model for MALAYSIA using best parameters...\n"
     ]
    },
    {
     "name": "stdout",
     "output_type": "stream",
     "text": [
      "\n",
      "[0]\ttrain-rmse:1.15157\teval-rmse:0.66994\n",
      "[59]\ttrain-rmse:0.38726\teval-rmse:0.82955\n"
     ]
    },
    {
     "name": "stderr",
     "output_type": "stream",
     "text": [
      "INFO - features selected for myanmar: ['avg_currency_rate', 'google_trend_score', 'trip_advisor_rating', 'log_currency', 'reddit_sentiment_z', 'ig_sentiment_z', 'is_holiday', 'is_monsoon_season', 'google_trend_score_lag1', 'avg_currency_rate_lag1', 'reddit_sentiment_lag1', 'ig_sentiment_lag1']\n",
      "INFO - [HP Tuning] starting hp optimization for myanmar...\n"
     ]
    },
    {
     "name": "stdout",
     "output_type": "stream",
     "text": [
      "100%|██████████| 50/50 [00:26<00:00,  1.86trial/s, best loss: 0.5531401399402374]"
     ]
    },
    {
     "name": "stderr",
     "output_type": "stream",
     "text": [
      "INFO - [HP Results] best cross-validation rmse (log_visitors scale): 0.5531\n",
      "INFO - [Training] training final model for MYANMAR using best parameters...\n"
     ]
    },
    {
     "name": "stdout",
     "output_type": "stream",
     "text": [
      "\n",
      "[0]\ttrain-rmse:0.87956\teval-rmse:0.36529\n",
      "[100]\ttrain-rmse:0.35168\teval-rmse:0.13249\n",
      "[106]\ttrain-rmse:0.33868\teval-rmse:0.13782\n"
     ]
    },
    {
     "name": "stderr",
     "output_type": "stream",
     "text": [
      "INFO - features selected for vietnam: ['avg_currency_rate', 'google_trend_score', 'trip_advisor_rating', 'log_currency', 'reddit_sentiment_z', 'ig_sentiment_z', 'is_holiday', 'is_monsoon_season', 'google_trend_score_lag1', 'avg_currency_rate_lag1', 'reddit_sentiment_lag1', 'ig_sentiment_lag1']\n",
      "INFO - [HP Tuning] starting hp optimization for vietnam...\n"
     ]
    },
    {
     "name": "stdout",
     "output_type": "stream",
     "text": [
      "100%|██████████| 50/50 [00:27<00:00,  1.84trial/s, best loss: 0.44965462438074616]"
     ]
    },
    {
     "name": "stderr",
     "output_type": "stream",
     "text": [
      "INFO - [HP Results] best cross-validation rmse (log_visitors scale): 0.4497\n",
      "INFO - [Training] training final model for VIETNAM using best parameters...\n"
     ]
    },
    {
     "name": "stdout",
     "output_type": "stream",
     "text": [
      "\n",
      "[0]\ttrain-rmse:1.16255\teval-rmse:1.02232\n",
      "[100]\ttrain-rmse:0.61965\teval-rmse:0.57381\n",
      "[200]\ttrain-rmse:0.35591\teval-rmse:0.37639\n",
      "[300]\ttrain-rmse:0.21942\teval-rmse:0.28913\n",
      "[400]\ttrain-rmse:0.14729\teval-rmse:0.24298\n",
      "[500]\ttrain-rmse:0.10770\teval-rmse:0.22017\n",
      "[600]\ttrain-rmse:0.08811\teval-rmse:0.21637\n",
      "[700]\ttrain-rmse:0.07463\teval-rmse:0.21344\n",
      "[800]\ttrain-rmse:0.06502\teval-rmse:0.21021\n",
      "[900]\ttrain-rmse:0.06045\teval-rmse:0.20830\n",
      "[942]\ttrain-rmse:0.05995\teval-rmse:0.20866\n"
     ]
    },
    {
     "name": "stderr",
     "output_type": "stream",
     "text": [
      "INFO - features selected for philippines: ['avg_currency_rate', 'google_trend_score', 'trip_advisor_rating', 'log_currency', 'reddit_sentiment_z', 'ig_sentiment_z', 'is_holiday', 'is_monsoon_season', 'google_trend_score_lag1', 'avg_currency_rate_lag1', 'reddit_sentiment_lag1', 'ig_sentiment_lag1']\n",
      "INFO - [HP Tuning] starting hp optimization for philippines...\n"
     ]
    },
    {
     "name": "stdout",
     "output_type": "stream",
     "text": [
      "100%|██████████| 50/50 [00:14<00:00,  3.53trial/s, best loss: 0.2620214202796963] "
     ]
    },
    {
     "name": "stderr",
     "output_type": "stream",
     "text": [
      "INFO - [HP Results] best cross-validation rmse (log_visitors scale): 0.2620\n",
      "INFO - [Training] training final model for PHILIPPINES using best parameters...\n"
     ]
    },
    {
     "name": "stdout",
     "output_type": "stream",
     "text": [
      "\n",
      "[0]\ttrain-rmse:0.46723\teval-rmse:0.34470\n",
      "[100]\ttrain-rmse:0.08822\teval-rmse:0.16094\n",
      "[102]\ttrain-rmse:0.08822\teval-rmse:0.16094\n"
     ]
    },
    {
     "name": "stderr",
     "output_type": "stream",
     "text": [
      "INFO - features selected for singapore: ['avg_currency_rate', 'google_trend_score', 'trip_advisor_rating', 'log_currency', 'reddit_sentiment_z', 'ig_sentiment_z', 'is_holiday', 'is_monsoon_season', 'google_trend_score_lag1', 'avg_currency_rate_lag1', 'reddit_sentiment_lag1', 'ig_sentiment_lag1']\n",
      "INFO - [HP Tuning] starting hp optimization for singapore...\n"
     ]
    },
    {
     "name": "stdout",
     "output_type": "stream",
     "text": [
      "100%|██████████| 50/50 [00:20<00:00,  2.48trial/s, best loss: 0.541193256554424]"
     ]
    },
    {
     "name": "stderr",
     "output_type": "stream",
     "text": [
      "INFO - [HP Results] best cross-validation rmse (log_visitors scale): 0.5412\n",
      "INFO - [Training] training final model for SINGAPORE using best parameters...\n"
     ]
    },
    {
     "name": "stdout",
     "output_type": "stream",
     "text": [
      "\n",
      "[0]\ttrain-rmse:0.83171\teval-rmse:0.54935\n",
      "[100]\ttrain-rmse:0.46633\teval-rmse:0.26200\n",
      "[200]\ttrain-rmse:0.28387\teval-rmse:0.15689\n",
      "[300]\ttrain-rmse:0.19087\teval-rmse:0.11912\n",
      "[400]\ttrain-rmse:0.14293\teval-rmse:0.11399\n",
      "[500]\ttrain-rmse:0.11533\teval-rmse:0.11110\n",
      "[600]\ttrain-rmse:0.09842\teval-rmse:0.10930\n",
      "[665]\ttrain-rmse:0.09318\teval-rmse:0.10984\n"
     ]
    },
    {
     "name": "stderr",
     "output_type": "stream",
     "text": [
      "INFO - features selected for cambodia: ['avg_currency_rate', 'google_trend_score', 'trip_advisor_rating', 'log_currency', 'reddit_sentiment_z', 'ig_sentiment_z', 'is_holiday', 'is_monsoon_season', 'google_trend_score_lag1', 'avg_currency_rate_lag1', 'reddit_sentiment_lag1', 'ig_sentiment_lag1']\n",
      "INFO - [HP Tuning] starting hp optimization for cambodia...\n"
     ]
    },
    {
     "name": "stdout",
     "output_type": "stream",
     "text": [
      "100%|██████████| 50/50 [00:20<00:00,  2.38trial/s, best loss: 0.6544669255737638]"
     ]
    },
    {
     "name": "stderr",
     "output_type": "stream",
     "text": [
      "INFO - [HP Results] best cross-validation rmse (log_visitors scale): 0.6545\n",
      "INFO - [Training] training final model for CAMBODIA using best parameters...\n"
     ]
    },
    {
     "name": "stdout",
     "output_type": "stream",
     "text": [
      "\n",
      "[0]\ttrain-rmse:0.73175\teval-rmse:0.59893\n",
      "[100]\ttrain-rmse:0.38214\teval-rmse:0.44123\n",
      "[200]\ttrain-rmse:0.21654\teval-rmse:0.35368\n",
      "[300]\ttrain-rmse:0.13784\teval-rmse:0.30941\n",
      "[400]\ttrain-rmse:0.09582\teval-rmse:0.29572\n",
      "[500]\ttrain-rmse:0.07459\teval-rmse:0.28831\n",
      "[589]\ttrain-rmse:0.06584\teval-rmse:0.28756\n"
     ]
    },
    {
     "name": "stderr",
     "output_type": "stream",
     "text": [
      "INFO - features selected for thailand: ['avg_currency_rate', 'google_trend_score', 'trip_advisor_rating', 'log_currency', 'reddit_sentiment_z', 'ig_sentiment_z', 'is_holiday', 'is_monsoon_season', 'google_trend_score_lag1', 'avg_currency_rate_lag1', 'reddit_sentiment_lag1', 'ig_sentiment_lag1']\n",
      "INFO - [HP Tuning] starting hp optimization for thailand...\n"
     ]
    },
    {
     "name": "stdout",
     "output_type": "stream",
     "text": [
      "100%|██████████| 50/50 [00:22<00:00,  2.26trial/s, best loss: 0.7559716805495825]"
     ]
    },
    {
     "name": "stderr",
     "output_type": "stream",
     "text": [
      "INFO - [HP Results] best cross-validation rmse (log_visitors scale): 0.7560\n",
      "INFO - [Training] training final model for THAILAND using best parameters...\n"
     ]
    },
    {
     "name": "stdout",
     "output_type": "stream",
     "text": [
      "\n",
      "[0]\ttrain-rmse:0.88550\teval-rmse:0.72122\n",
      "[100]\ttrain-rmse:0.35253\teval-rmse:0.51381\n",
      "[157]\ttrain-rmse:0.23557\teval-rmse:0.51964\n"
     ]
    },
    {
     "name": "stderr",
     "output_type": "stream",
     "text": [
      "INFO - features selected for brunei: ['avg_currency_rate', 'google_trend_score', 'trip_advisor_rating', 'log_currency', 'reddit_sentiment_z', 'ig_sentiment_z', 'is_holiday', 'is_monsoon_season', 'google_trend_score_lag1', 'avg_currency_rate_lag1', 'reddit_sentiment_lag1', 'ig_sentiment_lag1']\n",
      "INFO - [HP Tuning] starting hp optimization for brunei...\n"
     ]
    },
    {
     "name": "stdout",
     "output_type": "stream",
     "text": [
      "100%|██████████| 50/50 [00:07<00:00,  6.90trial/s, best loss: 0.837383765182197] "
     ]
    },
    {
     "name": "stderr",
     "output_type": "stream",
     "text": [
      "INFO - [HP Results] best cross-validation rmse (log_visitors scale): 0.8374\n",
      "INFO - [Training] training final model for BRUNEI using best parameters...\n"
     ]
    },
    {
     "name": "stdout",
     "output_type": "stream",
     "text": [
      "\n",
      "[0]\ttrain-rmse:0.84585\teval-rmse:0.27998\n",
      "[73]\ttrain-rmse:0.66589\teval-rmse:0.29397\n"
     ]
    },
    {
     "name": "stderr",
     "output_type": "stream",
     "text": [
      "INFO - features selected for indonesia: ['avg_currency_rate', 'google_trend_score', 'trip_advisor_rating', 'log_currency', 'reddit_sentiment_z', 'ig_sentiment_z', 'is_holiday', 'is_monsoon_season', 'google_trend_score_lag1', 'avg_currency_rate_lag1', 'reddit_sentiment_lag1', 'ig_sentiment_lag1']\n",
      "INFO - [HP Tuning] starting hp optimization for indonesia...\n"
     ]
    },
    {
     "name": "stdout",
     "output_type": "stream",
     "text": [
      "100%|██████████| 50/50 [00:14<00:00,  3.37trial/s, best loss: 0.46633729665466195]"
     ]
    },
    {
     "name": "stderr",
     "output_type": "stream",
     "text": [
      "INFO - [HP Results] best cross-validation rmse (log_visitors scale): 0.4663\n",
      "INFO - [Training] training final model for INDONESIA using best parameters...\n"
     ]
    },
    {
     "name": "stdout",
     "output_type": "stream",
     "text": [
      "\n",
      "[0]\ttrain-rmse:0.84620\teval-rmse:0.52129\n",
      "[75]\ttrain-rmse:0.17986\teval-rmse:0.18946\n"
     ]
    }
   ],
   "source": [
    "cmt.run_training()"
   ]
  },
  {
   "cell_type": "code",
   "execution_count": null,
   "metadata": {},
   "outputs": [],
   "source": []
  }
 ],
 "metadata": {
  "kernelspec": {
   "display_name": "Python 3",
   "language": "python",
   "name": "python3"
  },
  "language_info": {
   "codemirror_mode": {
    "name": "ipython",
    "version": 3
   },
   "file_extension": ".py",
   "mimetype": "text/x-python",
   "name": "python",
   "nbconvert_exporter": "python",
   "pygments_lexer": "ipython3",
   "version": "3.11.5"
  }
 },
 "nbformat": 4,
 "nbformat_minor": 2
}
