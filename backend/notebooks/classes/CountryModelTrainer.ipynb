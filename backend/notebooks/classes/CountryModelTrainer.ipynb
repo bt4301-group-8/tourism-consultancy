{
 "cells": [
  {
   "cell_type": "code",
   "execution_count": 1,
   "metadata": {},
   "outputs": [
    {
     "name": "stdout",
     "output_type": "stream",
     "text": [
      "/Users/aldensio/Desktop/Projects/tourism-consultancy\n"
     ]
    }
   ],
   "source": [
    "%cd ../../.."
   ]
  },
  {
   "cell_type": "code",
   "execution_count": 2,
   "metadata": {},
   "outputs": [],
   "source": [
    "from backend.src.model import CountryModelTrainer"
   ]
  },
  {
   "cell_type": "code",
   "execution_count": 3,
   "metadata": {},
   "outputs": [],
   "source": [
    "cmt = CountryModelTrainer()"
   ]
  },
  {
   "cell_type": "code",
   "execution_count": 4,
   "metadata": {},
   "outputs": [
    {
     "name": "stderr",
     "output_type": "stream",
     "text": [
      "INFO - found 10 country csvs in backend/data/countries/ matching '*_final_df.csv'\n",
      "INFO - --- starting training pipeline for BRUNEI ---\n",
      "INFO - [hp tuning] starting hp optimization for brunei on training data...\n",
      "INFO - [hp results] best cross-validation rmse (log_visitors scale) on train data: 0.9187\n",
      "INFO - [training] training final model for BRUNEI using best parameters...\n"
     ]
    },
    {
     "name": "stdout",
     "output_type": "stream",
     "text": [
      "[0]\ttrain-rmse:0.88626\teval-rmse:0.26349\n",
      "[50]\ttrain-rmse:0.83817\teval-rmse:0.34265\n"
     ]
    },
    {
     "name": "stderr",
     "output_type": "stream",
     "text": [
      "INFO - [training] final model training completed. best iteration: 0, best val rmse: 0.2635\n",
      "INFO - [evaluation] evaluating final model for BRUNEI on test set (5 samples)...\n",
      "INFO -   test rmse (log_visitors): 0.1510\n",
      "INFO -   test rmse (num_visitors): 10038.47\n",
      "/Users/aldensio/Desktop/Projects/tourism-consultancy/.venv/lib/python3.11/site-packages/mlflow/types/utils.py:452: UserWarning: Hint: Inferred schema contains integer column(s). Integer columns in Python cannot represent missing values. If your input data contains missing values at inference time, it will be encoded as floats and will cause a schema enforcement error. The best way to avoid this problem is to infer the model schema based on a realistic data sample (training dataset) that includes missing values. Alternatively, you can declare integer columns as doubles (float64) whenever these columns may have missing values. See `Handling Integers With Missing Values <https://www.mlflow.org/docs/latest/models.html#handling-integers-with-missing-values>`_ for more details.\n",
      "  warnings.warn(\n",
      "/Users/aldensio/Desktop/Projects/tourism-consultancy/.venv/lib/python3.11/site-packages/mlflow/xgboost/__init__.py:168: UserWarning: [03:43:56] WARNING: /Users/runner/work/xgboost/xgboost/src/c_api/c_api.cc:1427: Saving model in the UBJSON format as default.  You can use file extension: `json`, `ubj` or `deprecated` to choose between formats.\n",
      "  xgb_model.save_model(model_data_path)\n",
      "Registered model 'brunei_visitor_model' already exists. Creating a new version of this model...\n",
      "2025/04/15 03:43:58 INFO mlflow.store.model_registry.abstract_store: Waiting up to 300 seconds for model version to finish creation. Model name: brunei_visitor_model, version 2\n",
      "Created version '2' of model 'brunei_visitor_model'.\n",
      "INFO - [mlflow] logged model for brunei\n",
      "INFO - --- finished training pipeline for BRUNEI ---\n",
      "INFO - --- starting training pipeline for CAMBODIA ---\n",
      "INFO - [hp tuning] starting hp optimization for cambodia on training data...\n"
     ]
    },
    {
     "name": "stdout",
     "output_type": "stream",
     "text": [
      "🏃 View run brunei_training at: http://localhost:9080/#/experiments/424706080075609518/runs/93f5ea9d66a44575a1412133d593ca23\n",
      "🧪 View experiment at: http://localhost:9080/#/experiments/424706080075609518\n"
     ]
    },
    {
     "name": "stderr",
     "output_type": "stream",
     "text": [
      "INFO - [hp results] best cross-validation rmse (log_visitors scale) on train data: 0.8365\n",
      "INFO - [training] training final model for CAMBODIA using best parameters...\n"
     ]
    },
    {
     "name": "stdout",
     "output_type": "stream",
     "text": [
      "[0]\ttrain-rmse:0.64652\teval-rmse:0.58747\n",
      "[100]\ttrain-rmse:0.12202\teval-rmse:0.33504\n",
      "[112]\ttrain-rmse:0.12202\teval-rmse:0.33504\n"
     ]
    },
    {
     "name": "stderr",
     "output_type": "stream",
     "text": [
      "INFO - [training] final model training completed. best iteration: 62, best val rmse: 0.3313\n",
      "INFO - [evaluation] evaluating final model for CAMBODIA on test set (5 samples)...\n",
      "INFO -   test rmse (log_visitors): 0.5954\n",
      "INFO -   test rmse (num_visitors): 294158.87\n",
      "/Users/aldensio/Desktop/Projects/tourism-consultancy/.venv/lib/python3.11/site-packages/mlflow/types/utils.py:452: UserWarning: Hint: Inferred schema contains integer column(s). Integer columns in Python cannot represent missing values. If your input data contains missing values at inference time, it will be encoded as floats and will cause a schema enforcement error. The best way to avoid this problem is to infer the model schema based on a realistic data sample (training dataset) that includes missing values. Alternatively, you can declare integer columns as doubles (float64) whenever these columns may have missing values. See `Handling Integers With Missing Values <https://www.mlflow.org/docs/latest/models.html#handling-integers-with-missing-values>`_ for more details.\n",
      "  warnings.warn(\n",
      "/Users/aldensio/Desktop/Projects/tourism-consultancy/.venv/lib/python3.11/site-packages/mlflow/xgboost/__init__.py:168: UserWarning: [03:44:06] WARNING: /Users/runner/work/xgboost/xgboost/src/c_api/c_api.cc:1427: Saving model in the UBJSON format as default.  You can use file extension: `json`, `ubj` or `deprecated` to choose between formats.\n",
      "  xgb_model.save_model(model_data_path)\n",
      "Successfully registered model 'cambodia_visitor_model'.\n",
      "2025/04/15 03:44:08 INFO mlflow.store.model_registry.abstract_store: Waiting up to 300 seconds for model version to finish creation. Model name: cambodia_visitor_model, version 1\n",
      "Created version '1' of model 'cambodia_visitor_model'.\n",
      "INFO - [mlflow] logged model for cambodia\n",
      "INFO - --- finished training pipeline for CAMBODIA ---\n",
      "INFO - --- starting training pipeline for INDONESIA ---\n",
      "INFO - [hp tuning] starting hp optimization for indonesia on training data...\n"
     ]
    },
    {
     "name": "stdout",
     "output_type": "stream",
     "text": [
      "🏃 View run cambodia_training at: http://localhost:9080/#/experiments/424706080075609518/runs/ccebfa6ae0aa41a990a3cec5d569e0ce\n",
      "🧪 View experiment at: http://localhost:9080/#/experiments/424706080075609518\n"
     ]
    },
    {
     "name": "stderr",
     "output_type": "stream",
     "text": [
      "INFO - [hp results] best cross-validation rmse (log_visitors scale) on train data: 0.8233\n",
      "INFO - [training] training final model for INDONESIA using best parameters...\n"
     ]
    },
    {
     "name": "stdout",
     "output_type": "stream",
     "text": [
      "[0]\ttrain-rmse:0.99562\teval-rmse:0.75026\n",
      "[100]\ttrain-rmse:0.50850\teval-rmse:0.40980\n",
      "[157]\ttrain-rmse:0.41822\teval-rmse:0.43078\n"
     ]
    },
    {
     "name": "stderr",
     "output_type": "stream",
     "text": [
      "INFO - [training] final model training completed. best iteration: 107, best val rmse: 0.4079\n",
      "INFO - [evaluation] evaluating final model for INDONESIA on test set (5 samples)...\n",
      "INFO -   test rmse (log_visitors): 0.6635\n",
      "INFO -   test rmse (num_visitors): 570561.39\n",
      "/Users/aldensio/Desktop/Projects/tourism-consultancy/.venv/lib/python3.11/site-packages/mlflow/types/utils.py:452: UserWarning: Hint: Inferred schema contains integer column(s). Integer columns in Python cannot represent missing values. If your input data contains missing values at inference time, it will be encoded as floats and will cause a schema enforcement error. The best way to avoid this problem is to infer the model schema based on a realistic data sample (training dataset) that includes missing values. Alternatively, you can declare integer columns as doubles (float64) whenever these columns may have missing values. See `Handling Integers With Missing Values <https://www.mlflow.org/docs/latest/models.html#handling-integers-with-missing-values>`_ for more details.\n",
      "  warnings.warn(\n",
      "/Users/aldensio/Desktop/Projects/tourism-consultancy/.venv/lib/python3.11/site-packages/mlflow/xgboost/__init__.py:168: UserWarning: [03:44:25] WARNING: /Users/runner/work/xgboost/xgboost/src/c_api/c_api.cc:1427: Saving model in the UBJSON format as default.  You can use file extension: `json`, `ubj` or `deprecated` to choose between formats.\n",
      "  xgb_model.save_model(model_data_path)\n",
      "Successfully registered model 'indonesia_visitor_model'.\n",
      "2025/04/15 03:44:27 INFO mlflow.store.model_registry.abstract_store: Waiting up to 300 seconds for model version to finish creation. Model name: indonesia_visitor_model, version 1\n",
      "Created version '1' of model 'indonesia_visitor_model'.\n",
      "INFO - [mlflow] logged model for indonesia\n",
      "INFO - --- finished training pipeline for INDONESIA ---\n",
      "INFO - --- starting training pipeline for LAOS ---\n",
      "INFO - [hp tuning] starting hp optimization for laos on training data...\n"
     ]
    },
    {
     "name": "stdout",
     "output_type": "stream",
     "text": [
      "🏃 View run indonesia_training at: http://localhost:9080/#/experiments/424706080075609518/runs/8ae50afa61c149e1af52f409906061d8\n",
      "🧪 View experiment at: http://localhost:9080/#/experiments/424706080075609518\n"
     ]
    },
    {
     "name": "stderr",
     "output_type": "stream",
     "text": [
      "INFO - [hp results] best cross-validation rmse (log_visitors scale) on train data: 0.3903\n",
      "INFO - [training] training final model for LAOS using best parameters...\n"
     ]
    },
    {
     "name": "stdout",
     "output_type": "stream",
     "text": [
      "[0]\ttrain-rmse:0.51980\teval-rmse:0.66919\n",
      "[100]\ttrain-rmse:0.11867\teval-rmse:0.35482\n",
      "[200]\ttrain-rmse:0.06515\teval-rmse:0.34021\n",
      "[238]\ttrain-rmse:0.05892\teval-rmse:0.33995\n"
     ]
    },
    {
     "name": "stderr",
     "output_type": "stream",
     "text": [
      "INFO - [training] final model training completed. best iteration: 188, best val rmse: 0.3392\n",
      "INFO - [evaluation] evaluating final model for LAOS on test set (5 samples)...\n",
      "INFO -   test rmse (log_visitors): 0.7254\n",
      "INFO -   test rmse (num_visitors): 233194.03\n",
      "/Users/aldensio/Desktop/Projects/tourism-consultancy/.venv/lib/python3.11/site-packages/mlflow/types/utils.py:452: UserWarning: Hint: Inferred schema contains integer column(s). Integer columns in Python cannot represent missing values. If your input data contains missing values at inference time, it will be encoded as floats and will cause a schema enforcement error. The best way to avoid this problem is to infer the model schema based on a realistic data sample (training dataset) that includes missing values. Alternatively, you can declare integer columns as doubles (float64) whenever these columns may have missing values. See `Handling Integers With Missing Values <https://www.mlflow.org/docs/latest/models.html#handling-integers-with-missing-values>`_ for more details.\n",
      "  warnings.warn(\n",
      "/Users/aldensio/Desktop/Projects/tourism-consultancy/.venv/lib/python3.11/site-packages/mlflow/xgboost/__init__.py:168: UserWarning: [03:44:43] WARNING: /Users/runner/work/xgboost/xgboost/src/c_api/c_api.cc:1427: Saving model in the UBJSON format as default.  You can use file extension: `json`, `ubj` or `deprecated` to choose between formats.\n",
      "  xgb_model.save_model(model_data_path)\n",
      "Successfully registered model 'laos_visitor_model'.\n",
      "2025/04/15 03:44:45 INFO mlflow.store.model_registry.abstract_store: Waiting up to 300 seconds for model version to finish creation. Model name: laos_visitor_model, version 1\n",
      "Created version '1' of model 'laos_visitor_model'.\n",
      "INFO - [mlflow] logged model for laos\n",
      "INFO - --- finished training pipeline for LAOS ---\n",
      "INFO - --- starting training pipeline for MALAYSIA ---\n",
      "INFO - [hp tuning] starting hp optimization for malaysia on training data...\n"
     ]
    },
    {
     "name": "stdout",
     "output_type": "stream",
     "text": [
      "🏃 View run laos_training at: http://localhost:9080/#/experiments/424706080075609518/runs/0e8d1cd78e3845afbbf1d4eb51bafbd8\n",
      "🧪 View experiment at: http://localhost:9080/#/experiments/424706080075609518\n"
     ]
    },
    {
     "name": "stderr",
     "output_type": "stream",
     "text": [
      "INFO - [hp results] best cross-validation rmse (log_visitors scale) on train data: 0.5734\n",
      "INFO - [training] training final model for MALAYSIA using best parameters...\n"
     ]
    },
    {
     "name": "stdout",
     "output_type": "stream",
     "text": [
      "[0]\ttrain-rmse:1.08191\teval-rmse:0.74131\n",
      "[72]\ttrain-rmse:0.09408\teval-rmse:0.70042\n"
     ]
    },
    {
     "name": "stderr",
     "output_type": "stream",
     "text": [
      "INFO - [training] final model training completed. best iteration: 22, best val rmse: 0.6643\n",
      "INFO - [evaluation] evaluating final model for MALAYSIA on test set (5 samples)...\n",
      "INFO -   test rmse (log_visitors): 0.9000\n",
      "INFO -   test rmse (num_visitors): 1365264.60\n",
      "/Users/aldensio/Desktop/Projects/tourism-consultancy/.venv/lib/python3.11/site-packages/mlflow/types/utils.py:452: UserWarning: Hint: Inferred schema contains integer column(s). Integer columns in Python cannot represent missing values. If your input data contains missing values at inference time, it will be encoded as floats and will cause a schema enforcement error. The best way to avoid this problem is to infer the model schema based on a realistic data sample (training dataset) that includes missing values. Alternatively, you can declare integer columns as doubles (float64) whenever these columns may have missing values. See `Handling Integers With Missing Values <https://www.mlflow.org/docs/latest/models.html#handling-integers-with-missing-values>`_ for more details.\n",
      "  warnings.warn(\n",
      "/Users/aldensio/Desktop/Projects/tourism-consultancy/.venv/lib/python3.11/site-packages/mlflow/xgboost/__init__.py:168: UserWarning: [03:44:58] WARNING: /Users/runner/work/xgboost/xgboost/src/c_api/c_api.cc:1427: Saving model in the UBJSON format as default.  You can use file extension: `json`, `ubj` or `deprecated` to choose between formats.\n",
      "  xgb_model.save_model(model_data_path)\n",
      "Successfully registered model 'malaysia_visitor_model'.\n",
      "2025/04/15 03:45:00 INFO mlflow.store.model_registry.abstract_store: Waiting up to 300 seconds for model version to finish creation. Model name: malaysia_visitor_model, version 1\n",
      "Created version '1' of model 'malaysia_visitor_model'.\n",
      "INFO - [mlflow] logged model for malaysia\n",
      "INFO - --- finished training pipeline for MALAYSIA ---\n",
      "INFO - --- starting training pipeline for MYANMAR ---\n",
      "INFO - [hp tuning] starting hp optimization for myanmar on training data...\n"
     ]
    },
    {
     "name": "stdout",
     "output_type": "stream",
     "text": [
      "🏃 View run malaysia_training at: http://localhost:9080/#/experiments/424706080075609518/runs/d089fa85d3ca41ec8b7970964d08312e\n",
      "🧪 View experiment at: http://localhost:9080/#/experiments/424706080075609518\n"
     ]
    },
    {
     "name": "stderr",
     "output_type": "stream",
     "text": [
      "INFO - [hp results] best cross-validation rmse (log_visitors scale) on train data: 0.7830\n",
      "INFO - [training] training final model for MYANMAR using best parameters...\n"
     ]
    },
    {
     "name": "stdout",
     "output_type": "stream",
     "text": [
      "[0]\ttrain-rmse:0.88770\teval-rmse:0.41962\n",
      "[80]\ttrain-rmse:0.34366\teval-rmse:0.28402\n"
     ]
    },
    {
     "name": "stderr",
     "output_type": "stream",
     "text": [
      "INFO - [training] final model training completed. best iteration: 31, best val rmse: 0.1413\n",
      "INFO - [evaluation] evaluating final model for MYANMAR on test set (5 samples)...\n",
      "INFO -   test rmse (log_visitors): 0.7759\n",
      "INFO -   test rmse (num_visitors): 57292.62\n",
      "/Users/aldensio/Desktop/Projects/tourism-consultancy/.venv/lib/python3.11/site-packages/mlflow/types/utils.py:452: UserWarning: Hint: Inferred schema contains integer column(s). Integer columns in Python cannot represent missing values. If your input data contains missing values at inference time, it will be encoded as floats and will cause a schema enforcement error. The best way to avoid this problem is to infer the model schema based on a realistic data sample (training dataset) that includes missing values. Alternatively, you can declare integer columns as doubles (float64) whenever these columns may have missing values. See `Handling Integers With Missing Values <https://www.mlflow.org/docs/latest/models.html#handling-integers-with-missing-values>`_ for more details.\n",
      "  warnings.warn(\n",
      "/Users/aldensio/Desktop/Projects/tourism-consultancy/.venv/lib/python3.11/site-packages/mlflow/xgboost/__init__.py:168: UserWarning: [03:45:16] WARNING: /Users/runner/work/xgboost/xgboost/src/c_api/c_api.cc:1427: Saving model in the UBJSON format as default.  You can use file extension: `json`, `ubj` or `deprecated` to choose between formats.\n",
      "  xgb_model.save_model(model_data_path)\n",
      "Successfully registered model 'myanmar_visitor_model'.\n",
      "2025/04/15 03:45:17 INFO mlflow.store.model_registry.abstract_store: Waiting up to 300 seconds for model version to finish creation. Model name: myanmar_visitor_model, version 1\n",
      "Created version '1' of model 'myanmar_visitor_model'.\n",
      "INFO - [mlflow] logged model for myanmar\n",
      "INFO - --- finished training pipeline for MYANMAR ---\n",
      "INFO - --- starting training pipeline for PHILIPPINES ---\n",
      "INFO - [hp tuning] starting hp optimization for philippines on training data...\n"
     ]
    },
    {
     "name": "stdout",
     "output_type": "stream",
     "text": [
      "🏃 View run myanmar_training at: http://localhost:9080/#/experiments/424706080075609518/runs/cfd144a2593844688efdd64eed50b970\n",
      "🧪 View experiment at: http://localhost:9080/#/experiments/424706080075609518\n"
     ]
    },
    {
     "name": "stderr",
     "output_type": "stream",
     "text": [
      "INFO - [hp results] best cross-validation rmse (log_visitors scale) on train data: 0.4074\n",
      "INFO - [training] training final model for PHILIPPINES using best parameters...\n"
     ]
    },
    {
     "name": "stdout",
     "output_type": "stream",
     "text": [
      "[0]\ttrain-rmse:0.51741\teval-rmse:0.37411\n",
      "[100]\ttrain-rmse:0.22451\teval-rmse:0.21616\n",
      "[174]\ttrain-rmse:0.14807\teval-rmse:0.23768\n"
     ]
    },
    {
     "name": "stderr",
     "output_type": "stream",
     "text": [
      "INFO - [training] final model training completed. best iteration: 125, best val rmse: 0.2116\n",
      "INFO - [evaluation] evaluating final model for PHILIPPINES on test set (4 samples)...\n",
      "INFO -   test rmse (log_visitors): 0.4203\n",
      "INFO -   test rmse (num_visitors): 177490.81\n",
      "/Users/aldensio/Desktop/Projects/tourism-consultancy/.venv/lib/python3.11/site-packages/mlflow/types/utils.py:452: UserWarning: Hint: Inferred schema contains integer column(s). Integer columns in Python cannot represent missing values. If your input data contains missing values at inference time, it will be encoded as floats and will cause a schema enforcement error. The best way to avoid this problem is to infer the model schema based on a realistic data sample (training dataset) that includes missing values. Alternatively, you can declare integer columns as doubles (float64) whenever these columns may have missing values. See `Handling Integers With Missing Values <https://www.mlflow.org/docs/latest/models.html#handling-integers-with-missing-values>`_ for more details.\n",
      "  warnings.warn(\n",
      "/Users/aldensio/Desktop/Projects/tourism-consultancy/.venv/lib/python3.11/site-packages/mlflow/xgboost/__init__.py:168: UserWarning: [03:45:31] WARNING: /Users/runner/work/xgboost/xgboost/src/c_api/c_api.cc:1427: Saving model in the UBJSON format as default.  You can use file extension: `json`, `ubj` or `deprecated` to choose between formats.\n",
      "  xgb_model.save_model(model_data_path)\n",
      "Successfully registered model 'philippines_visitor_model'.\n",
      "2025/04/15 03:45:34 INFO mlflow.store.model_registry.abstract_store: Waiting up to 300 seconds for model version to finish creation. Model name: philippines_visitor_model, version 1\n",
      "Created version '1' of model 'philippines_visitor_model'.\n",
      "INFO - [mlflow] logged model for philippines\n",
      "INFO - --- finished training pipeline for PHILIPPINES ---\n",
      "INFO - --- starting training pipeline for SINGAPORE ---\n",
      "INFO - [hp tuning] starting hp optimization for singapore on training data...\n"
     ]
    },
    {
     "name": "stdout",
     "output_type": "stream",
     "text": [
      "🏃 View run philippines_training at: http://localhost:9080/#/experiments/424706080075609518/runs/9b4a2230768b4823a69e2951626be255\n",
      "🧪 View experiment at: http://localhost:9080/#/experiments/424706080075609518\n"
     ]
    },
    {
     "name": "stderr",
     "output_type": "stream",
     "text": [
      "INFO - [hp results] best cross-validation rmse (log_visitors scale) on train data: 0.8138\n",
      "INFO - [training] training final model for SINGAPORE using best parameters...\n"
     ]
    },
    {
     "name": "stdout",
     "output_type": "stream",
     "text": [
      "[0]\ttrain-rmse:0.84131\teval-rmse:0.61368\n",
      "[100]\ttrain-rmse:0.44336\teval-rmse:0.35215\n",
      "[200]\ttrain-rmse:0.26176\teval-rmse:0.27267\n",
      "[300]\ttrain-rmse:0.18258\teval-rmse:0.25248\n",
      "[395]\ttrain-rmse:0.14354\teval-rmse:0.25281\n"
     ]
    },
    {
     "name": "stderr",
     "output_type": "stream",
     "text": [
      "INFO - [training] final model training completed. best iteration: 345, best val rmse: 0.2500\n",
      "INFO - [evaluation] evaluating final model for SINGAPORE on test set (5 samples)...\n",
      "INFO -   test rmse (log_visitors): 0.7883\n",
      "INFO -   test rmse (num_visitors): 885341.00\n",
      "/Users/aldensio/Desktop/Projects/tourism-consultancy/.venv/lib/python3.11/site-packages/mlflow/types/utils.py:452: UserWarning: Hint: Inferred schema contains integer column(s). Integer columns in Python cannot represent missing values. If your input data contains missing values at inference time, it will be encoded as floats and will cause a schema enforcement error. The best way to avoid this problem is to infer the model schema based on a realistic data sample (training dataset) that includes missing values. Alternatively, you can declare integer columns as doubles (float64) whenever these columns may have missing values. See `Handling Integers With Missing Values <https://www.mlflow.org/docs/latest/models.html#handling-integers-with-missing-values>`_ for more details.\n",
      "  warnings.warn(\n",
      "/Users/aldensio/Desktop/Projects/tourism-consultancy/.venv/lib/python3.11/site-packages/mlflow/xgboost/__init__.py:168: UserWarning: [03:45:50] WARNING: /Users/runner/work/xgboost/xgboost/src/c_api/c_api.cc:1427: Saving model in the UBJSON format as default.  You can use file extension: `json`, `ubj` or `deprecated` to choose between formats.\n",
      "  xgb_model.save_model(model_data_path)\n",
      "Successfully registered model 'singapore_visitor_model'.\n",
      "2025/04/15 03:45:52 INFO mlflow.store.model_registry.abstract_store: Waiting up to 300 seconds for model version to finish creation. Model name: singapore_visitor_model, version 1\n",
      "Created version '1' of model 'singapore_visitor_model'.\n",
      "INFO - [mlflow] logged model for singapore\n",
      "INFO - --- finished training pipeline for SINGAPORE ---\n",
      "INFO - --- starting training pipeline for THAILAND ---\n",
      "INFO - [hp tuning] starting hp optimization for thailand on training data...\n"
     ]
    },
    {
     "name": "stdout",
     "output_type": "stream",
     "text": [
      "🏃 View run singapore_training at: http://localhost:9080/#/experiments/424706080075609518/runs/5d509d9785df4d78a86c98570f7ae638\n",
      "🧪 View experiment at: http://localhost:9080/#/experiments/424706080075609518\n"
     ]
    },
    {
     "name": "stderr",
     "output_type": "stream",
     "text": [
      "INFO - [hp results] best cross-validation rmse (log_visitors scale) on train data: 0.9853\n",
      "INFO - [training] training final model for THAILAND using best parameters...\n"
     ]
    },
    {
     "name": "stdout",
     "output_type": "stream",
     "text": [
      "[0]\ttrain-rmse:0.89775\teval-rmse:0.73347\n",
      "[49]\ttrain-rmse:0.61205\teval-rmse:0.82035\n"
     ]
    },
    {
     "name": "stderr",
     "output_type": "stream",
     "text": [
      "INFO - [training] final model training completed. best iteration: 0, best val rmse: 0.7335\n",
      "INFO - [evaluation] evaluating final model for THAILAND on test set (5 samples)...\n",
      "INFO -   test rmse (log_visitors): 1.0413\n",
      "INFO -   test rmse (num_visitors): 2323017.91\n",
      "/Users/aldensio/Desktop/Projects/tourism-consultancy/.venv/lib/python3.11/site-packages/mlflow/types/utils.py:452: UserWarning: Hint: Inferred schema contains integer column(s). Integer columns in Python cannot represent missing values. If your input data contains missing values at inference time, it will be encoded as floats and will cause a schema enforcement error. The best way to avoid this problem is to infer the model schema based on a realistic data sample (training dataset) that includes missing values. Alternatively, you can declare integer columns as doubles (float64) whenever these columns may have missing values. See `Handling Integers With Missing Values <https://www.mlflow.org/docs/latest/models.html#handling-integers-with-missing-values>`_ for more details.\n",
      "  warnings.warn(\n",
      "/Users/aldensio/Desktop/Projects/tourism-consultancy/.venv/lib/python3.11/site-packages/mlflow/xgboost/__init__.py:168: UserWarning: [03:46:08] WARNING: /Users/runner/work/xgboost/xgboost/src/c_api/c_api.cc:1427: Saving model in the UBJSON format as default.  You can use file extension: `json`, `ubj` or `deprecated` to choose between formats.\n",
      "  xgb_model.save_model(model_data_path)\n",
      "Successfully registered model 'thailand_visitor_model'.\n",
      "2025/04/15 03:46:10 INFO mlflow.store.model_registry.abstract_store: Waiting up to 300 seconds for model version to finish creation. Model name: thailand_visitor_model, version 1\n",
      "Created version '1' of model 'thailand_visitor_model'.\n",
      "INFO - [mlflow] logged model for thailand\n",
      "INFO - --- finished training pipeline for THAILAND ---\n",
      "INFO - --- starting training pipeline for VIETNAM ---\n",
      "INFO - [hp tuning] starting hp optimization for vietnam on training data...\n"
     ]
    },
    {
     "name": "stdout",
     "output_type": "stream",
     "text": [
      "🏃 View run thailand_training at: http://localhost:9080/#/experiments/424706080075609518/runs/2f5e96c6988243c48e424e47c58d4fbc\n",
      "🧪 View experiment at: http://localhost:9080/#/experiments/424706080075609518\n"
     ]
    },
    {
     "name": "stderr",
     "output_type": "stream",
     "text": [
      "INFO - [hp results] best cross-validation rmse (log_visitors scale) on train data: 0.7692\n",
      "INFO - [training] training final model for VIETNAM using best parameters...\n"
     ]
    },
    {
     "name": "stdout",
     "output_type": "stream",
     "text": [
      "[0]\ttrain-rmse:1.18023\teval-rmse:0.95115\n",
      "[100]\ttrain-rmse:0.56737\teval-rmse:0.39955\n",
      "[200]\ttrain-rmse:0.35267\teval-rmse:0.22039\n",
      "[300]\ttrain-rmse:0.27245\teval-rmse:0.19390\n",
      "[314]\ttrain-rmse:0.26400\teval-rmse:0.19684\n"
     ]
    },
    {
     "name": "stderr",
     "output_type": "stream",
     "text": [
      "INFO - [training] final model training completed. best iteration: 264, best val rmse: 0.1906\n",
      "INFO - [evaluation] evaluating final model for VIETNAM on test set (5 samples)...\n",
      "INFO -   test rmse (log_visitors): 0.6751\n",
      "INFO -   test rmse (num_visitors): 831592.11\n",
      "/Users/aldensio/Desktop/Projects/tourism-consultancy/.venv/lib/python3.11/site-packages/mlflow/types/utils.py:452: UserWarning: Hint: Inferred schema contains integer column(s). Integer columns in Python cannot represent missing values. If your input data contains missing values at inference time, it will be encoded as floats and will cause a schema enforcement error. The best way to avoid this problem is to infer the model schema based on a realistic data sample (training dataset) that includes missing values. Alternatively, you can declare integer columns as doubles (float64) whenever these columns may have missing values. See `Handling Integers With Missing Values <https://www.mlflow.org/docs/latest/models.html#handling-integers-with-missing-values>`_ for more details.\n",
      "  warnings.warn(\n",
      "/Users/aldensio/Desktop/Projects/tourism-consultancy/.venv/lib/python3.11/site-packages/mlflow/xgboost/__init__.py:168: UserWarning: [03:46:38] WARNING: /Users/runner/work/xgboost/xgboost/src/c_api/c_api.cc:1427: Saving model in the UBJSON format as default.  You can use file extension: `json`, `ubj` or `deprecated` to choose between formats.\n",
      "  xgb_model.save_model(model_data_path)\n",
      "Successfully registered model 'vietnam_visitor_model'.\n",
      "2025/04/15 03:46:40 INFO mlflow.store.model_registry.abstract_store: Waiting up to 300 seconds for model version to finish creation. Model name: vietnam_visitor_model, version 1\n",
      "Created version '1' of model 'vietnam_visitor_model'.\n",
      "INFO - [mlflow] logged model for vietnam\n",
      "INFO - --- finished training pipeline for VIETNAM ---\n",
      "INFO - --- overall training process finished ---\n",
      "INFO - attempted training for: 10 countries.\n"
     ]
    },
    {
     "name": "stdout",
     "output_type": "stream",
     "text": [
      "🏃 View run vietnam_training at: http://localhost:9080/#/experiments/424706080075609518/runs/3b45f05c31f5425c8241624a0538b193\n",
      "🧪 View experiment at: http://localhost:9080/#/experiments/424706080075609518\n"
     ]
    }
   ],
   "source": [
    "cmt.run_training()"
   ]
  },
  {
   "cell_type": "code",
   "execution_count": null,
   "metadata": {},
   "outputs": [],
   "source": []
  }
 ],
 "metadata": {
  "kernelspec": {
   "display_name": ".venv",
   "language": "python",
   "name": "python3"
  },
  "language_info": {
   "codemirror_mode": {
    "name": "ipython",
    "version": 3
   },
   "file_extension": ".py",
   "mimetype": "text/x-python",
   "name": "python",
   "nbconvert_exporter": "python",
   "pygments_lexer": "ipython3",
   "version": "3.11.5"
  }
 },
 "nbformat": 4,
 "nbformat_minor": 2
}
