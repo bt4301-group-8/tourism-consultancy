{
 "cells": [
  {
   "cell_type": "code",
   "execution_count": 1,
   "metadata": {},
   "outputs": [
    {
     "name": "stdout",
     "output_type": "stream",
     "text": [
      "/Users/aldensio/Desktop/Projects/tourism-consultancy\n"
     ]
    }
   ],
   "source": [
    "%cd ../../.."
   ]
  },
  {
   "cell_type": "markdown",
   "metadata": {},
   "source": [
    "## `CountryModelTrainer`\n",
    "1. `run_training()` trains a model for EACH & EVERY country\n",
    "\n",
    "2. `train_for_country(csv_path=\"COUNTRY_CSV_PATH_HERE\")` trains a model for the specified country/csv\n",
    "\n",
    "3. `monitor_input_drift(run_id=\"MODEL_RUN_ID_HERE\", new_data=\"NEW_PANDAS_DATAFRAME_HERE\")` can be invoked to check for input drift (choose a model, and provide new data)"
   ]
  },
  {
   "cell_type": "code",
   "execution_count": 2,
   "metadata": {},
   "outputs": [
    {
     "name": "stderr",
     "output_type": "stream",
     "text": [
      "2025/04/20 16:40:09 INFO mlflow.tracking.fluent: Experiment with name 'Country Visitor Models' does not exist. Creating a new experiment.\n"
     ]
    }
   ],
   "source": [
    "from backend.src.model import CountryModelTrainer"
   ]
  },
  {
   "cell_type": "code",
   "execution_count": 3,
   "metadata": {},
   "outputs": [],
   "source": [
    "cmt = CountryModelTrainer()"
   ]
  },
  {
   "cell_type": "code",
   "execution_count": 4,
   "metadata": {},
   "outputs": [
    {
     "name": "stderr",
     "output_type": "stream",
     "text": [
      "INFO - found 10 country csvs in backend/data/countries/ matching '*_final_df.csv'\n",
      "INFO - --- starting training pipeline for BRUNEI ---\n",
      "INFO - [monitoring] logged training feature statistics for brunei\n",
      "INFO - [monitoring] logged training data sample (27 rows) for brunei\n",
      "INFO - [hp tuning] starting hp optimization for brunei on training data...\n",
      "INFO - [hp results] best cross-validation rmse (log_visitors scale) on train data: 1.0276\n",
      "INFO - [training] training final model for BRUNEI using best parameters...\n"
     ]
    },
    {
     "name": "stdout",
     "output_type": "stream",
     "text": [
      "[0]\ttrain-rmse:0.91354\teval-rmse:0.27242\n",
      "[50]\ttrain-rmse:0.77585\teval-rmse:0.34852\n"
     ]
    },
    {
     "name": "stderr",
     "output_type": "stream",
     "text": [
      "INFO - [training] final model training completed. best iteration: 0, best val rmse: 0.2724\n",
      "INFO - [evaluation] evaluating final model for BRUNEI on test set (4 samples)...\n",
      "INFO -   test rmse (num_visitors): 34509.03\n",
      "/Users/aldensio/Desktop/Projects/tourism-consultancy/.venv/lib/python3.11/site-packages/mlflow/types/utils.py:452: UserWarning: Hint: Inferred schema contains integer column(s). Integer columns in Python cannot represent missing values. If your input data contains missing values at inference time, it will be encoded as floats and will cause a schema enforcement error. The best way to avoid this problem is to infer the model schema based on a realistic data sample (training dataset) that includes missing values. Alternatively, you can declare integer columns as doubles (float64) whenever these columns may have missing values. See `Handling Integers With Missing Values <https://www.mlflow.org/docs/latest/models.html#handling-integers-with-missing-values>`_ for more details.\n",
      "  warnings.warn(\n",
      "/Users/aldensio/Desktop/Projects/tourism-consultancy/.venv/lib/python3.11/site-packages/mlflow/xgboost/__init__.py:168: UserWarning: [16:40:23] WARNING: /Users/runner/work/xgboost/xgboost/src/c_api/c_api.cc:1427: Saving model in the UBJSON format as default.  You can use file extension: `json`, `ubj` or `deprecated` to choose between formats.\n",
      "  xgb_model.save_model(model_data_path)\n",
      "Successfully registered model 'brunei_visitor_model'.\n",
      "2025/04/20 16:40:25 INFO mlflow.store.model_registry.abstract_store: Waiting up to 300 seconds for model version to finish creation. Model name: brunei_visitor_model, version 1\n",
      "Created version '1' of model 'brunei_visitor_model'.\n",
      "INFO - --- finished training pipeline for BRUNEI ---\n",
      "INFO - --- starting training pipeline for CAMBODIA ---\n",
      "INFO - [monitoring] logged training feature statistics for cambodia\n",
      "INFO - [monitoring] logged training data sample (27 rows) for cambodia\n",
      "INFO - [hp tuning] starting hp optimization for cambodia on training data...\n"
     ]
    },
    {
     "name": "stdout",
     "output_type": "stream",
     "text": [
      "🏃 View run brunei_training at: http://localhost:9080/#/experiments/344466680472911615/runs/9b17800b4da8401baf3abc6e4c70cc69\n",
      "🧪 View experiment at: http://localhost:9080/#/experiments/344466680472911615\n"
     ]
    },
    {
     "name": "stderr",
     "output_type": "stream",
     "text": [
      "INFO - [hp results] best cross-validation rmse (log_visitors scale) on train data: 0.6932\n",
      "INFO - [training] training final model for CAMBODIA using best parameters...\n"
     ]
    },
    {
     "name": "stdout",
     "output_type": "stream",
     "text": [
      "[0]\ttrain-rmse:0.67138\teval-rmse:0.55801\n",
      "[100]\ttrain-rmse:0.36758\teval-rmse:0.47440\n",
      "[179]\ttrain-rmse:0.24298\teval-rmse:0.46956\n"
     ]
    },
    {
     "name": "stderr",
     "output_type": "stream",
     "text": [
      "INFO - [training] final model training completed. best iteration: 130, best val rmse: 0.4677\n",
      "INFO - [evaluation] evaluating final model for CAMBODIA on test set (5 samples)...\n",
      "INFO -   test rmse (num_visitors): 390022.59\n",
      "/Users/aldensio/Desktop/Projects/tourism-consultancy/.venv/lib/python3.11/site-packages/mlflow/types/utils.py:452: UserWarning: Hint: Inferred schema contains integer column(s). Integer columns in Python cannot represent missing values. If your input data contains missing values at inference time, it will be encoded as floats and will cause a schema enforcement error. The best way to avoid this problem is to infer the model schema based on a realistic data sample (training dataset) that includes missing values. Alternatively, you can declare integer columns as doubles (float64) whenever these columns may have missing values. See `Handling Integers With Missing Values <https://www.mlflow.org/docs/latest/models.html#handling-integers-with-missing-values>`_ for more details.\n",
      "  warnings.warn(\n",
      "/Users/aldensio/Desktop/Projects/tourism-consultancy/.venv/lib/python3.11/site-packages/mlflow/xgboost/__init__.py:168: UserWarning: [16:40:40] WARNING: /Users/runner/work/xgboost/xgboost/src/c_api/c_api.cc:1427: Saving model in the UBJSON format as default.  You can use file extension: `json`, `ubj` or `deprecated` to choose between formats.\n",
      "  xgb_model.save_model(model_data_path)\n",
      "Successfully registered model 'cambodia_visitor_model'.\n",
      "2025/04/20 16:40:42 INFO mlflow.store.model_registry.abstract_store: Waiting up to 300 seconds for model version to finish creation. Model name: cambodia_visitor_model, version 1\n",
      "Created version '1' of model 'cambodia_visitor_model'.\n",
      "INFO - --- finished training pipeline for CAMBODIA ---\n",
      "INFO - --- starting training pipeline for INDONESIA ---\n",
      "INFO - [monitoring] logged training feature statistics for indonesia\n",
      "INFO - [monitoring] logged training data sample (27 rows) for indonesia\n",
      "INFO - [hp tuning] starting hp optimization for indonesia on training data...\n"
     ]
    },
    {
     "name": "stdout",
     "output_type": "stream",
     "text": [
      "🏃 View run cambodia_training at: http://localhost:9080/#/experiments/344466680472911615/runs/7afcd3f4dfa44df88b01aa50d63c2515\n",
      "🧪 View experiment at: http://localhost:9080/#/experiments/344466680472911615\n"
     ]
    },
    {
     "name": "stderr",
     "output_type": "stream",
     "text": [
      "INFO - [hp results] best cross-validation rmse (log_visitors scale) on train data: 0.6459\n",
      "INFO - [training] training final model for INDONESIA using best parameters...\n"
     ]
    },
    {
     "name": "stdout",
     "output_type": "stream",
     "text": [
      "[0]\ttrain-rmse:0.97989\teval-rmse:0.73992\n",
      "[100]\ttrain-rmse:0.25263\teval-rmse:0.33534\n",
      "[181]\ttrain-rmse:0.18091\teval-rmse:0.33432\n"
     ]
    },
    {
     "name": "stderr",
     "output_type": "stream",
     "text": [
      "INFO - [training] final model training completed. best iteration: 132, best val rmse: 0.3192\n",
      "INFO - [evaluation] evaluating final model for INDONESIA on test set (5 samples)...\n",
      "INFO -   test rmse (num_visitors): 428400.27\n",
      "/Users/aldensio/Desktop/Projects/tourism-consultancy/.venv/lib/python3.11/site-packages/mlflow/types/utils.py:452: UserWarning: Hint: Inferred schema contains integer column(s). Integer columns in Python cannot represent missing values. If your input data contains missing values at inference time, it will be encoded as floats and will cause a schema enforcement error. The best way to avoid this problem is to infer the model schema based on a realistic data sample (training dataset) that includes missing values. Alternatively, you can declare integer columns as doubles (float64) whenever these columns may have missing values. See `Handling Integers With Missing Values <https://www.mlflow.org/docs/latest/models.html#handling-integers-with-missing-values>`_ for more details.\n",
      "  warnings.warn(\n",
      "/Users/aldensio/Desktop/Projects/tourism-consultancy/.venv/lib/python3.11/site-packages/mlflow/xgboost/__init__.py:168: UserWarning: [16:40:57] WARNING: /Users/runner/work/xgboost/xgboost/src/c_api/c_api.cc:1427: Saving model in the UBJSON format as default.  You can use file extension: `json`, `ubj` or `deprecated` to choose between formats.\n",
      "  xgb_model.save_model(model_data_path)\n",
      "Successfully registered model 'indonesia_visitor_model'.\n",
      "2025/04/20 16:40:58 INFO mlflow.store.model_registry.abstract_store: Waiting up to 300 seconds for model version to finish creation. Model name: indonesia_visitor_model, version 1\n",
      "Created version '1' of model 'indonesia_visitor_model'.\n",
      "INFO - --- finished training pipeline for INDONESIA ---\n",
      "INFO - --- starting training pipeline for LAOS ---\n",
      "INFO - [monitoring] logged training feature statistics for laos\n",
      "INFO - [monitoring] logged training data sample (27 rows) for laos\n",
      "INFO - [hp tuning] starting hp optimization for laos on training data...\n"
     ]
    },
    {
     "name": "stdout",
     "output_type": "stream",
     "text": [
      "🏃 View run indonesia_training at: http://localhost:9080/#/experiments/344466680472911615/runs/b114d4fbdd8b4027b55b7555db1b14f1\n",
      "🧪 View experiment at: http://localhost:9080/#/experiments/344466680472911615\n"
     ]
    },
    {
     "name": "stderr",
     "output_type": "stream",
     "text": [
      "INFO - [hp results] best cross-validation rmse (log_visitors scale) on train data: 0.4105\n",
      "INFO - [training] training final model for LAOS using best parameters...\n"
     ]
    },
    {
     "name": "stdout",
     "output_type": "stream",
     "text": [
      "[0]\ttrain-rmse:0.52096\teval-rmse:0.40243\n",
      "[90]\ttrain-rmse:0.07807\teval-rmse:0.12326\n"
     ]
    },
    {
     "name": "stderr",
     "output_type": "stream",
     "text": [
      "INFO - [training] final model training completed. best iteration: 40, best val rmse: 0.0945\n",
      "INFO - [evaluation] evaluating final model for LAOS on test set (5 samples)...\n",
      "INFO -   test rmse (num_visitors): 149834.99\n",
      "/Users/aldensio/Desktop/Projects/tourism-consultancy/.venv/lib/python3.11/site-packages/mlflow/types/utils.py:452: UserWarning: Hint: Inferred schema contains integer column(s). Integer columns in Python cannot represent missing values. If your input data contains missing values at inference time, it will be encoded as floats and will cause a schema enforcement error. The best way to avoid this problem is to infer the model schema based on a realistic data sample (training dataset) that includes missing values. Alternatively, you can declare integer columns as doubles (float64) whenever these columns may have missing values. See `Handling Integers With Missing Values <https://www.mlflow.org/docs/latest/models.html#handling-integers-with-missing-values>`_ for more details.\n",
      "  warnings.warn(\n",
      "/Users/aldensio/Desktop/Projects/tourism-consultancy/.venv/lib/python3.11/site-packages/mlflow/xgboost/__init__.py:168: UserWarning: [16:41:13] WARNING: /Users/runner/work/xgboost/xgboost/src/c_api/c_api.cc:1427: Saving model in the UBJSON format as default.  You can use file extension: `json`, `ubj` or `deprecated` to choose between formats.\n",
      "  xgb_model.save_model(model_data_path)\n",
      "Successfully registered model 'laos_visitor_model'.\n",
      "2025/04/20 16:41:14 INFO mlflow.store.model_registry.abstract_store: Waiting up to 300 seconds for model version to finish creation. Model name: laos_visitor_model, version 1\n",
      "Created version '1' of model 'laos_visitor_model'.\n",
      "INFO - --- finished training pipeline for LAOS ---\n",
      "INFO - --- starting training pipeline for MALAYSIA ---\n",
      "INFO - [monitoring] logged training feature statistics for malaysia\n",
      "INFO - [monitoring] logged training data sample (27 rows) for malaysia\n",
      "INFO - [hp tuning] starting hp optimization for malaysia on training data...\n"
     ]
    },
    {
     "name": "stdout",
     "output_type": "stream",
     "text": [
      "🏃 View run laos_training at: http://localhost:9080/#/experiments/344466680472911615/runs/46bc8c99d42743f39f3c02fae00bd5a9\n",
      "🧪 View experiment at: http://localhost:9080/#/experiments/344466680472911615\n"
     ]
    },
    {
     "name": "stderr",
     "output_type": "stream",
     "text": [
      "INFO - [hp results] best cross-validation rmse (log_visitors scale) on train data: 0.5450\n",
      "INFO - [training] training final model for MALAYSIA using best parameters...\n"
     ]
    },
    {
     "name": "stdout",
     "output_type": "stream",
     "text": [
      "[0]\ttrain-rmse:1.02440\teval-rmse:0.68661\n",
      "[100]\ttrain-rmse:0.35429\teval-rmse:0.46561\n",
      "[183]\ttrain-rmse:0.19298\teval-rmse:0.45310\n"
     ]
    },
    {
     "name": "stderr",
     "output_type": "stream",
     "text": [
      "INFO - [training] final model training completed. best iteration: 133, best val rmse: 0.4501\n",
      "INFO - [evaluation] evaluating final model for MALAYSIA on test set (5 samples)...\n",
      "INFO -   test rmse (num_visitors): 1194889.23\n",
      "/Users/aldensio/Desktop/Projects/tourism-consultancy/.venv/lib/python3.11/site-packages/mlflow/types/utils.py:452: UserWarning: Hint: Inferred schema contains integer column(s). Integer columns in Python cannot represent missing values. If your input data contains missing values at inference time, it will be encoded as floats and will cause a schema enforcement error. The best way to avoid this problem is to infer the model schema based on a realistic data sample (training dataset) that includes missing values. Alternatively, you can declare integer columns as doubles (float64) whenever these columns may have missing values. See `Handling Integers With Missing Values <https://www.mlflow.org/docs/latest/models.html#handling-integers-with-missing-values>`_ for more details.\n",
      "  warnings.warn(\n",
      "/Users/aldensio/Desktop/Projects/tourism-consultancy/.venv/lib/python3.11/site-packages/mlflow/xgboost/__init__.py:168: UserWarning: [16:41:30] WARNING: /Users/runner/work/xgboost/xgboost/src/c_api/c_api.cc:1427: Saving model in the UBJSON format as default.  You can use file extension: `json`, `ubj` or `deprecated` to choose between formats.\n",
      "  xgb_model.save_model(model_data_path)\n",
      "Successfully registered model 'malaysia_visitor_model'.\n",
      "2025/04/20 16:41:32 INFO mlflow.store.model_registry.abstract_store: Waiting up to 300 seconds for model version to finish creation. Model name: malaysia_visitor_model, version 1\n",
      "Created version '1' of model 'malaysia_visitor_model'.\n",
      "INFO - --- finished training pipeline for MALAYSIA ---\n",
      "INFO - --- starting training pipeline for MYANMAR ---\n",
      "INFO - [monitoring] logged training feature statistics for myanmar\n",
      "INFO - [monitoring] logged training data sample (27 rows) for myanmar\n",
      "INFO - [hp tuning] starting hp optimization for myanmar on training data...\n"
     ]
    },
    {
     "name": "stdout",
     "output_type": "stream",
     "text": [
      "🏃 View run malaysia_training at: http://localhost:9080/#/experiments/344466680472911615/runs/59b97e27ae354e23a8bd58079f25e805\n",
      "🧪 View experiment at: http://localhost:9080/#/experiments/344466680472911615\n"
     ]
    },
    {
     "name": "stderr",
     "output_type": "stream",
     "text": [
      "INFO - [hp results] best cross-validation rmse (log_visitors scale) on train data: 0.4974\n",
      "INFO - [training] training final model for MYANMAR using best parameters...\n"
     ]
    },
    {
     "name": "stdout",
     "output_type": "stream",
     "text": [
      "[0]\ttrain-rmse:0.86602\teval-rmse:0.39948\n",
      "[64]\ttrain-rmse:0.10684\teval-rmse:0.33555\n"
     ]
    },
    {
     "name": "stderr",
     "output_type": "stream",
     "text": [
      "INFO - [training] final model training completed. best iteration: 14, best val rmse: 0.1128\n",
      "INFO - [evaluation] evaluating final model for MYANMAR on test set (5 samples)...\n",
      "INFO -   test rmse (num_visitors): 20349.62\n",
      "/Users/aldensio/Desktop/Projects/tourism-consultancy/.venv/lib/python3.11/site-packages/mlflow/types/utils.py:452: UserWarning: Hint: Inferred schema contains integer column(s). Integer columns in Python cannot represent missing values. If your input data contains missing values at inference time, it will be encoded as floats and will cause a schema enforcement error. The best way to avoid this problem is to infer the model schema based on a realistic data sample (training dataset) that includes missing values. Alternatively, you can declare integer columns as doubles (float64) whenever these columns may have missing values. See `Handling Integers With Missing Values <https://www.mlflow.org/docs/latest/models.html#handling-integers-with-missing-values>`_ for more details.\n",
      "  warnings.warn(\n",
      "/Users/aldensio/Desktop/Projects/tourism-consultancy/.venv/lib/python3.11/site-packages/mlflow/xgboost/__init__.py:168: UserWarning: [16:41:53] WARNING: /Users/runner/work/xgboost/xgboost/src/c_api/c_api.cc:1427: Saving model in the UBJSON format as default.  You can use file extension: `json`, `ubj` or `deprecated` to choose between formats.\n",
      "  xgb_model.save_model(model_data_path)\n",
      "Successfully registered model 'myanmar_visitor_model'.\n",
      "2025/04/20 16:41:54 INFO mlflow.store.model_registry.abstract_store: Waiting up to 300 seconds for model version to finish creation. Model name: myanmar_visitor_model, version 1\n",
      "Created version '1' of model 'myanmar_visitor_model'.\n",
      "INFO - --- finished training pipeline for MYANMAR ---\n",
      "INFO - --- starting training pipeline for PHILIPPINES ---\n",
      "INFO - [monitoring] logged training feature statistics for philippines\n",
      "INFO - [monitoring] logged training data sample (27 rows) for philippines\n",
      "INFO - [hp tuning] starting hp optimization for philippines on training data...\n"
     ]
    },
    {
     "name": "stdout",
     "output_type": "stream",
     "text": [
      "🏃 View run myanmar_training at: http://localhost:9080/#/experiments/344466680472911615/runs/c792f16048094833b3e9373d2e98ee6d\n",
      "🧪 View experiment at: http://localhost:9080/#/experiments/344466680472911615\n"
     ]
    },
    {
     "name": "stderr",
     "output_type": "stream",
     "text": [
      "INFO - [hp results] best cross-validation rmse (log_visitors scale) on train data: 0.3607\n",
      "INFO - [training] training final model for PHILIPPINES using best parameters...\n"
     ]
    },
    {
     "name": "stdout",
     "output_type": "stream",
     "text": [
      "[0]\ttrain-rmse:0.53602\teval-rmse:0.31287\n",
      "[100]\ttrain-rmse:0.25882\teval-rmse:0.25421\n",
      "[200]\ttrain-rmse:0.15579\teval-rmse:0.23641\n",
      "[300]\ttrain-rmse:0.10307\teval-rmse:0.23069\n",
      "[336]\ttrain-rmse:0.09071\teval-rmse:0.23083\n"
     ]
    },
    {
     "name": "stderr",
     "output_type": "stream",
     "text": [
      "INFO - [training] final model training completed. best iteration: 286, best val rmse: 0.2303\n",
      "INFO - [evaluation] evaluating final model for PHILIPPINES on test set (5 samples)...\n",
      "INFO -   test rmse (num_visitors): 171117.06\n",
      "/Users/aldensio/Desktop/Projects/tourism-consultancy/.venv/lib/python3.11/site-packages/mlflow/types/utils.py:452: UserWarning: Hint: Inferred schema contains integer column(s). Integer columns in Python cannot represent missing values. If your input data contains missing values at inference time, it will be encoded as floats and will cause a schema enforcement error. The best way to avoid this problem is to infer the model schema based on a realistic data sample (training dataset) that includes missing values. Alternatively, you can declare integer columns as doubles (float64) whenever these columns may have missing values. See `Handling Integers With Missing Values <https://www.mlflow.org/docs/latest/models.html#handling-integers-with-missing-values>`_ for more details.\n",
      "  warnings.warn(\n",
      "/Users/aldensio/Desktop/Projects/tourism-consultancy/.venv/lib/python3.11/site-packages/mlflow/xgboost/__init__.py:168: UserWarning: [16:42:13] WARNING: /Users/runner/work/xgboost/xgboost/src/c_api/c_api.cc:1427: Saving model in the UBJSON format as default.  You can use file extension: `json`, `ubj` or `deprecated` to choose between formats.\n",
      "  xgb_model.save_model(model_data_path)\n",
      "Successfully registered model 'philippines_visitor_model'.\n",
      "2025/04/20 16:42:14 INFO mlflow.store.model_registry.abstract_store: Waiting up to 300 seconds for model version to finish creation. Model name: philippines_visitor_model, version 1\n",
      "Created version '1' of model 'philippines_visitor_model'.\n",
      "INFO - --- finished training pipeline for PHILIPPINES ---\n",
      "INFO - --- starting training pipeline for SINGAPORE ---\n",
      "INFO - [monitoring] logged training feature statistics for singapore\n",
      "INFO - [monitoring] logged training data sample (27 rows) for singapore\n",
      "INFO - [hp tuning] starting hp optimization for singapore on training data...\n"
     ]
    },
    {
     "name": "stdout",
     "output_type": "stream",
     "text": [
      "🏃 View run philippines_training at: http://localhost:9080/#/experiments/344466680472911615/runs/9e669491b6294a9bbda67138d6a9c067\n",
      "🧪 View experiment at: http://localhost:9080/#/experiments/344466680472911615\n"
     ]
    },
    {
     "name": "stderr",
     "output_type": "stream",
     "text": [
      "INFO - [hp results] best cross-validation rmse (log_visitors scale) on train data: 0.5370\n",
      "INFO - [training] training final model for SINGAPORE using best parameters...\n"
     ]
    },
    {
     "name": "stdout",
     "output_type": "stream",
     "text": [
      "[0]\ttrain-rmse:0.71531\teval-rmse:0.54982\n",
      "[100]\ttrain-rmse:0.26629\teval-rmse:0.24136\n",
      "[200]\ttrain-rmse:0.14314\teval-rmse:0.20336\n",
      "[239]\ttrain-rmse:0.12262\teval-rmse:0.21307\n"
     ]
    },
    {
     "name": "stderr",
     "output_type": "stream",
     "text": [
      "INFO - [training] final model training completed. best iteration: 189, best val rmse: 0.2021\n",
      "INFO - [evaluation] evaluating final model for SINGAPORE on test set (5 samples)...\n",
      "INFO -   test rmse (num_visitors): 379118.34\n",
      "/Users/aldensio/Desktop/Projects/tourism-consultancy/.venv/lib/python3.11/site-packages/mlflow/types/utils.py:452: UserWarning: Hint: Inferred schema contains integer column(s). Integer columns in Python cannot represent missing values. If your input data contains missing values at inference time, it will be encoded as floats and will cause a schema enforcement error. The best way to avoid this problem is to infer the model schema based on a realistic data sample (training dataset) that includes missing values. Alternatively, you can declare integer columns as doubles (float64) whenever these columns may have missing values. See `Handling Integers With Missing Values <https://www.mlflow.org/docs/latest/models.html#handling-integers-with-missing-values>`_ for more details.\n",
      "  warnings.warn(\n",
      "/Users/aldensio/Desktop/Projects/tourism-consultancy/.venv/lib/python3.11/site-packages/mlflow/xgboost/__init__.py:168: UserWarning: [16:42:26] WARNING: /Users/runner/work/xgboost/xgboost/src/c_api/c_api.cc:1427: Saving model in the UBJSON format as default.  You can use file extension: `json`, `ubj` or `deprecated` to choose between formats.\n",
      "  xgb_model.save_model(model_data_path)\n",
      "Successfully registered model 'singapore_visitor_model'.\n",
      "2025/04/20 16:42:28 INFO mlflow.store.model_registry.abstract_store: Waiting up to 300 seconds for model version to finish creation. Model name: singapore_visitor_model, version 1\n",
      "Created version '1' of model 'singapore_visitor_model'.\n",
      "INFO - --- finished training pipeline for SINGAPORE ---\n",
      "INFO - --- starting training pipeline for THAILAND ---\n",
      "INFO - [monitoring] logged training feature statistics for thailand\n",
      "INFO - [monitoring] logged training data sample (27 rows) for thailand\n",
      "INFO - [hp tuning] starting hp optimization for thailand on training data...\n"
     ]
    },
    {
     "name": "stdout",
     "output_type": "stream",
     "text": [
      "🏃 View run singapore_training at: http://localhost:9080/#/experiments/344466680472911615/runs/09e427082aa441279195e9c0b7826e32\n",
      "🧪 View experiment at: http://localhost:9080/#/experiments/344466680472911615\n"
     ]
    },
    {
     "name": "stderr",
     "output_type": "stream",
     "text": [
      "INFO - [hp results] best cross-validation rmse (log_visitors scale) on train data: 0.7537\n",
      "INFO - [training] training final model for THAILAND using best parameters...\n"
     ]
    },
    {
     "name": "stdout",
     "output_type": "stream",
     "text": [
      "[0]\ttrain-rmse:0.79954\teval-rmse:0.62006\n",
      "[58]\ttrain-rmse:0.18346\teval-rmse:0.61257\n"
     ]
    },
    {
     "name": "stderr",
     "output_type": "stream",
     "text": [
      "INFO - [training] final model training completed. best iteration: 9, best val rmse: 0.5901\n",
      "INFO - [evaluation] evaluating final model for THAILAND on test set (5 samples)...\n",
      "INFO -   test rmse (num_visitors): 1739492.88\n",
      "/Users/aldensio/Desktop/Projects/tourism-consultancy/.venv/lib/python3.11/site-packages/mlflow/types/utils.py:452: UserWarning: Hint: Inferred schema contains integer column(s). Integer columns in Python cannot represent missing values. If your input data contains missing values at inference time, it will be encoded as floats and will cause a schema enforcement error. The best way to avoid this problem is to infer the model schema based on a realistic data sample (training dataset) that includes missing values. Alternatively, you can declare integer columns as doubles (float64) whenever these columns may have missing values. See `Handling Integers With Missing Values <https://www.mlflow.org/docs/latest/models.html#handling-integers-with-missing-values>`_ for more details.\n",
      "  warnings.warn(\n",
      "/Users/aldensio/Desktop/Projects/tourism-consultancy/.venv/lib/python3.11/site-packages/mlflow/xgboost/__init__.py:168: UserWarning: [16:42:40] WARNING: /Users/runner/work/xgboost/xgboost/src/c_api/c_api.cc:1427: Saving model in the UBJSON format as default.  You can use file extension: `json`, `ubj` or `deprecated` to choose between formats.\n",
      "  xgb_model.save_model(model_data_path)\n",
      "Successfully registered model 'thailand_visitor_model'.\n",
      "2025/04/20 16:42:41 INFO mlflow.store.model_registry.abstract_store: Waiting up to 300 seconds for model version to finish creation. Model name: thailand_visitor_model, version 1\n",
      "Created version '1' of model 'thailand_visitor_model'.\n",
      "INFO - --- finished training pipeline for THAILAND ---\n",
      "INFO - --- starting training pipeline for VIETNAM ---\n",
      "INFO - [monitoring] logged training feature statistics for vietnam\n",
      "INFO - [monitoring] logged training data sample (27 rows) for vietnam\n",
      "INFO - [hp tuning] starting hp optimization for vietnam on training data...\n"
     ]
    },
    {
     "name": "stdout",
     "output_type": "stream",
     "text": [
      "🏃 View run thailand_training at: http://localhost:9080/#/experiments/344466680472911615/runs/9ff466002f804e5595bd57715c704f75\n",
      "🧪 View experiment at: http://localhost:9080/#/experiments/344466680472911615\n"
     ]
    },
    {
     "name": "stderr",
     "output_type": "stream",
     "text": [
      "INFO - [hp results] best cross-validation rmse (log_visitors scale) on train data: 0.5442\n",
      "INFO - [training] training final model for VIETNAM using best parameters...\n"
     ]
    },
    {
     "name": "stdout",
     "output_type": "stream",
     "text": [
      "[0]\ttrain-rmse:1.04100\teval-rmse:0.77605\n",
      "[100]\ttrain-rmse:0.50110\teval-rmse:0.27020\n",
      "[200]\ttrain-rmse:0.27903\teval-rmse:0.09117\n",
      "[299]\ttrain-rmse:0.17005\teval-rmse:0.08063\n"
     ]
    },
    {
     "name": "stderr",
     "output_type": "stream",
     "text": [
      "INFO - [training] final model training completed. best iteration: 249, best val rmse: 0.0738\n",
      "INFO - [evaluation] evaluating final model for VIETNAM on test set (5 samples)...\n",
      "INFO -   test rmse (num_visitors): 485820.28\n",
      "/Users/aldensio/Desktop/Projects/tourism-consultancy/.venv/lib/python3.11/site-packages/mlflow/types/utils.py:452: UserWarning: Hint: Inferred schema contains integer column(s). Integer columns in Python cannot represent missing values. If your input data contains missing values at inference time, it will be encoded as floats and will cause a schema enforcement error. The best way to avoid this problem is to infer the model schema based on a realistic data sample (training dataset) that includes missing values. Alternatively, you can declare integer columns as doubles (float64) whenever these columns may have missing values. See `Handling Integers With Missing Values <https://www.mlflow.org/docs/latest/models.html#handling-integers-with-missing-values>`_ for more details.\n",
      "  warnings.warn(\n",
      "/Users/aldensio/Desktop/Projects/tourism-consultancy/.venv/lib/python3.11/site-packages/mlflow/xgboost/__init__.py:168: UserWarning: [16:43:05] WARNING: /Users/runner/work/xgboost/xgboost/src/c_api/c_api.cc:1427: Saving model in the UBJSON format as default.  You can use file extension: `json`, `ubj` or `deprecated` to choose between formats.\n",
      "  xgb_model.save_model(model_data_path)\n",
      "Successfully registered model 'vietnam_visitor_model'.\n",
      "2025/04/20 16:43:07 INFO mlflow.store.model_registry.abstract_store: Waiting up to 300 seconds for model version to finish creation. Model name: vietnam_visitor_model, version 1\n",
      "Created version '1' of model 'vietnam_visitor_model'.\n",
      "INFO - --- finished training pipeline for VIETNAM ---\n",
      "INFO - --- overall training process finished ---\n",
      "INFO - attempted training for: 10 countries.\n"
     ]
    },
    {
     "name": "stdout",
     "output_type": "stream",
     "text": [
      "🏃 View run vietnam_training at: http://localhost:9080/#/experiments/344466680472911615/runs/a35cc7cfa125498eb27d752cd3c23b60\n",
      "🧪 View experiment at: http://localhost:9080/#/experiments/344466680472911615\n"
     ]
    }
   ],
   "source": [
    "# for ALL countries\n",
    "cmt.run_training()\n",
    "\n",
    "# # for a specific country\n",
    "# cmt.train_for_country(\n",
    "#     csv_path=\"backend/data/countries/philippines_final_df.csv\",\n",
    "# )"
   ]
  },
  {
   "cell_type": "markdown",
   "metadata": {},
   "source": [
    "## Simulating new data being gathered"
   ]
  },
  {
   "cell_type": "code",
   "execution_count": null,
   "metadata": {},
   "outputs": [],
   "source": [
    "import pandas as pd\n",
    "import numpy as np"
   ]
  },
  {
   "cell_type": "code",
   "execution_count": null,
   "metadata": {},
   "outputs": [],
   "source": [
    "num_samples = 2\n",
    "\n",
    "# create the synthetic data\n",
    "new_data = pd.DataFrame({\n",
    "    \"month_year\": pd.to_datetime(f\"2025-02-01\") + pd.to_timedelta(np.arange(num_samples), unit='D'), \n",
    "    \"num_visitors\": np.random.randint(60000, 70000, size=num_samples),\n",
    "    \"log_visitors\": lambda df: np.log10(df[\"num_visitors\"]), \n",
    "    \"month\": [2] * num_samples,\n",
    "    \"year\": [2025] * num_samples,\n",
    "    \"is_monsoon_season\": np.random.choice([0, 1], size=num_samples, p=[0.9, 0.1]),\n",
    "    \"ig_sentiment\": np.random.uniform(0.7, 0.9, size=num_samples),\n",
    "    \"ig_sentiment_lag1\": np.random.uniform(0.6, 0.8, size=num_samples),\n",
    "    \"ig_sentiment_z\": np.random.uniform(0.1, 0.3, size=num_samples),\n",
    "    \"reddit_sentiment_z\": np.random.uniform(0.8, 1.0, size=num_samples),\n",
    "    \"reddit_sentiment_lag1\": np.random.uniform(0.6, 0.8, size=num_samples),\n",
    "    \"trip_advisor_rating\": np.random.uniform(4.3, 4.6, size=num_samples),\n",
    "    \"trip_advisor_rating_lag1\": np.random.uniform(4.2, 4.5, size=num_samples),\n",
    "    \"log_avg_currency_rate\": np.random.normal(loc=7438.0, scale=50.0, size=num_samples), \n",
    "    \"log_avg_currency_rate_lag1\": np.random.uniform(0.8, 0.9, size=num_samples),\n",
    "    \"google_trend_score\": np.random.uniform(1.5, 2.5, size=num_samples),\n",
    "    \"google_trend_score_lag1\": np.random.uniform(0.5, 1.5, size=num_samples),\n",
    "})\n",
    "\n",
    "new_data['month_year'] = new_data['month_year'].dt.strftime('%Y-%m-%d')"
   ]
  },
  {
   "cell_type": "code",
   "execution_count": null,
   "metadata": {},
   "outputs": [],
   "source": [
    "drift_detected = cmt.monitor_input_drift(\n",
    "    run_id=\"9fc5f7e2907b47b7b927a7e3128df5f8\",\n",
    "    new_data=new_data,\n",
    ")"
   ]
  },
  {
   "cell_type": "code",
   "execution_count": null,
   "metadata": {},
   "outputs": [],
   "source": [
    "drift_detected"
   ]
  },
  {
   "cell_type": "code",
   "execution_count": null,
   "metadata": {},
   "outputs": [],
   "source": []
  }
 ],
 "metadata": {
  "kernelspec": {
   "display_name": ".venv",
   "language": "python",
   "name": "python3"
  },
  "language_info": {
   "codemirror_mode": {
    "name": "ipython",
    "version": 3
   },
   "file_extension": ".py",
   "mimetype": "text/x-python",
   "name": "python",
   "nbconvert_exporter": "python",
   "pygments_lexer": "ipython3",
   "version": "3.11.5"
  }
 },
 "nbformat": 4,
 "nbformat_minor": 2
}
