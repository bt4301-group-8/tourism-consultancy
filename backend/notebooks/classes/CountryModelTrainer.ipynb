{
 "cells": [
  {
   "cell_type": "code",
   "execution_count": 1,
   "metadata": {},
   "outputs": [
    {
     "name": "stdout",
     "output_type": "stream",
     "text": [
      "/Users/aldensio/Desktop/Projects/tourism-consultancy\n"
     ]
    }
   ],
   "source": [
    "%cd ../../.."
   ]
  },
  {
   "cell_type": "code",
   "execution_count": 2,
   "metadata": {},
   "outputs": [],
   "source": [
    "from backend.src.model import CountryModelTrainer"
   ]
  },
  {
   "cell_type": "code",
   "execution_count": 3,
   "metadata": {},
   "outputs": [
    {
     "name": "stderr",
     "output_type": "stream",
     "text": [
      "INFO - output directory set to: backend/trained_models/\n"
     ]
    }
   ],
   "source": [
    "cmt = CountryModelTrainer()"
   ]
  },
  {
   "cell_type": "code",
   "execution_count": 4,
   "metadata": {},
   "outputs": [
    {
     "name": "stderr",
     "output_type": "stream",
     "text": [
      "INFO - features selected for brunei: ['avg_currency_rate', 'google_trend_score', 'trip_advisor_rating', 'log_currency', 'reddit_sentiment_z', 'ig_sentiment_z', 'is_holiday', 'is_monsoon_season', 'google_trend_score_lag1', 'avg_currency_rate_lag1', 'reddit_sentiment_lag1', 'ig_sentiment_lag1']\n",
      "INFO - [HP Tuning] starting hp optimization for brunei...\n"
     ]
    },
    {
     "name": "stdout",
     "output_type": "stream",
     "text": [
      "100%|██████████| 50/50 [00:07<00:00,  7.00trial/s, best loss: 0.8456007817759472]"
     ]
    },
    {
     "name": "stderr",
     "output_type": "stream",
     "text": [
      "INFO - [HP Results] best cross-validation rmse (log_visitors scale): 0.8456\n",
      "INFO - [Training] training final model for BRUNEI using best parameters...\n"
     ]
    },
    {
     "name": "stdout",
     "output_type": "stream",
     "text": [
      "\n",
      "[0]\ttrain-rmse:0.84543\teval-rmse:0.28138\n",
      "[50]\ttrain-rmse:0.71351\teval-rmse:0.31137\n"
     ]
    }
   ],
   "source": [
    "cmt.train_for_country(\n",
    "    csv_path=\"backend/data/processed/countries/brunei_final_df.csv\"\n",
    ")"
   ]
  },
  {
   "cell_type": "code",
   "execution_count": null,
   "metadata": {},
   "outputs": [],
   "source": []
  }
 ],
 "metadata": {
  "kernelspec": {
   "display_name": "Python 3",
   "language": "python",
   "name": "python3"
  },
  "language_info": {
   "codemirror_mode": {
    "name": "ipython",
    "version": 3
   },
   "file_extension": ".py",
   "mimetype": "text/x-python",
   "name": "python",
   "nbconvert_exporter": "python",
   "pygments_lexer": "ipython3",
   "version": "3.11.5"
  }
 },
 "nbformat": 4,
 "nbformat_minor": 2
}
