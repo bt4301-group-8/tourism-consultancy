{
 "cells": [
  {
   "cell_type": "code",
   "execution_count": 1,
   "metadata": {},
   "outputs": [
    {
     "name": "stdout",
     "output_type": "stream",
     "text": [
      "/Users/aldensio/Desktop/Projects/tourism-consultancy\n"
     ]
    }
   ],
   "source": [
    "%cd ../../.."
   ]
  },
  {
   "cell_type": "code",
   "execution_count": 2,
   "metadata": {},
   "outputs": [],
   "source": [
    "from backend.src.model import CountryModelTrainer"
   ]
  },
  {
   "cell_type": "code",
   "execution_count": 3,
   "metadata": {},
   "outputs": [
    {
     "name": "stderr",
     "output_type": "stream",
     "text": [
      "INFO - output directory set to: backend/trained_models/\n"
     ]
    }
   ],
   "source": [
    "cmt = CountryModelTrainer()"
   ]
  },
  {
   "cell_type": "code",
   "execution_count": 4,
   "metadata": {},
   "outputs": [
    {
     "name": "stderr",
     "output_type": "stream",
     "text": [
      "INFO - [HP Tuning] starting hp optimization for brunei on training data...\n"
     ]
    },
    {
     "name": "stdout",
     "output_type": "stream",
     "text": [
      "100%|██████████| 50/50 [00:09<00:00,  5.36trial/s, best loss: 0.9833961502931018]"
     ]
    },
    {
     "name": "stderr",
     "output_type": "stream",
     "text": [
      "INFO - [HP Results] best cross-validation rmse (log_visitors scale) on train data: 0.9834\n",
      "INFO - [Training] training final model for BRUNEI using best parameters...\n"
     ]
    },
    {
     "name": "stdout",
     "output_type": "stream",
     "text": [
      "\n",
      "[0]\ttrain-rmse:0.91043\teval-rmse:0.35021\n",
      "[53]\ttrain-rmse:0.75914\teval-rmse:0.39044\n"
     ]
    },
    {
     "name": "stderr",
     "output_type": "stream",
     "text": [
      "INFO - [Training] final model training completed. best iteration: 3\n",
      "[Training] best val rmse: 0.3421\n",
      "INFO - [Evaluation] evaluating final model for BRUNEI on test set (5 samples)...\n",
      "INFO -   test rmse (log_visitors): 0.3099\n",
      "INFO -   test rmse (num_visitors): 22154.64\n",
      "INFO - --- finished training pipeline for BRUNEI ---\n"
     ]
    }
   ],
   "source": [
    "cmt.train_for_country(\n",
    "    csv_path=\"backend/data/processed/countries/brunei_final_df.csv\"\n",
    ")"
   ]
  },
  {
   "cell_type": "code",
   "execution_count": null,
   "metadata": {},
   "outputs": [],
   "source": []
  }
 ],
 "metadata": {
  "kernelspec": {
   "display_name": "Python 3",
   "language": "python",
   "name": "python3"
  },
  "language_info": {
   "codemirror_mode": {
    "name": "ipython",
    "version": 3
   },
   "file_extension": ".py",
   "mimetype": "text/x-python",
   "name": "python",
   "nbconvert_exporter": "python",
   "pygments_lexer": "ipython3",
   "version": "3.11.5"
  }
 },
 "nbformat": 4,
 "nbformat_minor": 2
}
