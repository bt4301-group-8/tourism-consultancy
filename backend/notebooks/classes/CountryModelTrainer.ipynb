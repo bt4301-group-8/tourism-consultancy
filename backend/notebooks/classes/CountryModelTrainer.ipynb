{
 "cells": [
  {
   "cell_type": "code",
   "execution_count": 1,
   "metadata": {},
   "outputs": [
    {
     "name": "stdout",
     "output_type": "stream",
     "text": [
      "/Users/aldensio/Desktop/Projects/tourism-consultancy\n"
     ]
    }
   ],
   "source": [
    "%cd ../../.."
   ]
  },
  {
   "cell_type": "markdown",
   "metadata": {},
   "source": [
    "## `CountryModelTrainer`\n",
    "1. `run_training()` trains a model for EACH & EVERY country\n",
    "\n",
    "2. `train_for_country(csv_path=\"COUNTRY_CSV_PATH_HERE\")` trains a model for the specified country/csv\n",
    "\n",
    "3. `monitor_input_drift(run_id=\"MODEL_RUN_ID_HERE\", new_data=\"NEW_PANDAS_DATAFRAME_HERE\")` can be invoked to check for input drift (choose a model, and provide new data)"
   ]
  },
  {
   "cell_type": "code",
   "execution_count": 2,
   "metadata": {},
   "outputs": [],
   "source": [
    "from backend.src.model import CountryModelTrainer"
   ]
  },
  {
   "cell_type": "code",
   "execution_count": 3,
   "metadata": {},
   "outputs": [],
   "source": [
    "cmt = CountryModelTrainer()"
   ]
  },
  {
   "cell_type": "code",
   "execution_count": null,
   "metadata": {},
   "outputs": [],
   "source": [
    "# for ALL countries\n",
    "cmt.run_training()\n",
    "\n",
    "# # for a specific country\n",
    "# cmt.train_for_country(\n",
    "#     csv_path=\"backend/data/countries/philippines_final_df.csv\",\n",
    "# )"
   ]
  },
  {
   "cell_type": "markdown",
   "metadata": {},
   "source": [
    "## Simulating new data being gathered"
   ]
  },
  {
   "cell_type": "code",
   "execution_count": 4,
   "metadata": {},
   "outputs": [],
   "source": [
    "import pandas as pd\n",
    "import numpy as np"
   ]
  },
  {
   "cell_type": "code",
   "execution_count": 5,
   "metadata": {},
   "outputs": [],
   "source": [
    "num_samples = 2\n",
    "\n",
    "# create the synthetic data\n",
    "new_data = pd.DataFrame({\n",
    "    \"month_year\": pd.to_datetime(f\"2025-02-01\") + pd.to_timedelta(np.arange(num_samples), unit='D'), \n",
    "    \"num_visitors\": np.random.randint(60000, 70000, size=num_samples),\n",
    "    \"log_visitors\": lambda df: np.log10(df[\"num_visitors\"]), \n",
    "    \"month\": [2] * num_samples,\n",
    "    \"year\": [2025] * num_samples,\n",
    "    \"is_monsoon_season\": np.random.choice([0, 1], size=num_samples, p=[0.9, 0.1]),\n",
    "    \"ig_sentiment\": np.random.uniform(0.7, 0.9, size=num_samples),\n",
    "    \"ig_sentiment_lag1\": np.random.uniform(0.6, 0.8, size=num_samples),\n",
    "    \"ig_sentiment_z\": np.random.uniform(0.1, 0.3, size=num_samples),\n",
    "    \"reddit_sentiment_z\": np.random.uniform(0.8, 1.0, size=num_samples),\n",
    "    \"reddit_sentiment_lag1\": np.random.uniform(0.6, 0.8, size=num_samples),\n",
    "    \"trip_advisor_rating\": np.random.uniform(4.3, 4.6, size=num_samples),\n",
    "    \"trip_advisor_rating_lag1\": np.random.uniform(4.2, 4.5, size=num_samples),\n",
    "    \"log_avg_currency_rate\": np.random.normal(loc=7438.0, scale=50.0, size=num_samples), \n",
    "    \"log_avg_currency_rate_lag1\": np.random.uniform(0.8, 0.9, size=num_samples),\n",
    "    \"google_trend_score\": np.random.uniform(1.5, 2.5, size=num_samples),\n",
    "    \"google_trend_score_lag1\": np.random.uniform(0.5, 1.5, size=num_samples),\n",
    "})\n",
    "\n",
    "new_data['month_year'] = new_data['month_year'].dt.strftime('%Y-%m-%d')"
   ]
  },
  {
   "cell_type": "code",
   "execution_count": 6,
   "metadata": {},
   "outputs": [
    {
     "name": "stderr",
     "output_type": "stream",
     "text": [
      "INFO - [monitoring] starting input drift check for run_id: 9fc5f7e2907b47b7b927a7e3128df5f8\n",
      "/Users/aldensio/Desktop/Projects/tourism-consultancy/.venv/lib/python3.11/site-packages/tqdm/auto.py:21: TqdmWarning: IProgress not found. Please update jupyter and ipywidgets. See https://ipywidgets.readthedocs.io/en/stable/user_install.html\n",
      "  from .autonotebook import tqdm as notebook_tqdm\n",
      "Downloading artifacts: 100%|██████████| 10/10 [00:00<00:00, 1382.94it/s]\n",
      "WARNING - [monitoring] not enough common categories for 'is_monsoon_season'\n",
      "WARNING - [monitoring] drift in continuous feature 'trip_advisor_rating', p=0.004926\n",
      "WARNING - [monitoring] drift in continuous feature 'log_avg_currency_rate', p=0.004926\n",
      "WARNING - [monitoring] drift in continuous feature 'log_avg_currency_rate_lag1', p=0.004926\n",
      "WARNING - [monitoring] drift in continuous feature 'google_trend_score', p=0.004926\n",
      "WARNING - [monitoring] drift in continuous feature 'google_trend_score_lag1', p=0.004926\n",
      "INFO - [monitoring] drift check complete: 5/11 features drifted\n"
     ]
    }
   ],
   "source": [
    "drift_detected = cmt.monitor_input_drift(\n",
    "    run_id=\"9fc5f7e2907b47b7b927a7e3128df5f8\",\n",
    "    new_data=new_data,\n",
    ")"
   ]
  },
  {
   "cell_type": "code",
   "execution_count": 7,
   "metadata": {},
   "outputs": [
    {
     "data": {
      "text/plain": [
       "{'is_monsoon_season': False,\n",
       " 'ig_sentiment_lag1': False,\n",
       " 'ig_sentiment_z': False,\n",
       " 'reddit_sentiment_z': False,\n",
       " 'reddit_sentiment_lag1': False,\n",
       " 'trip_advisor_rating': True,\n",
       " 'trip_advisor_rating_lag1': False,\n",
       " 'log_avg_currency_rate': True,\n",
       " 'log_avg_currency_rate_lag1': True,\n",
       " 'google_trend_score': True,\n",
       " 'google_trend_score_lag1': True}"
      ]
     },
     "execution_count": 7,
     "metadata": {},
     "output_type": "execute_result"
    }
   ],
   "source": [
    "drift_detected"
   ]
  },
  {
   "cell_type": "code",
   "execution_count": null,
   "metadata": {},
   "outputs": [],
   "source": []
  }
 ],
 "metadata": {
  "kernelspec": {
   "display_name": ".venv",
   "language": "python",
   "name": "python3"
  },
  "language_info": {
   "codemirror_mode": {
    "name": "ipython",
    "version": 3
   },
   "file_extension": ".py",
   "mimetype": "text/x-python",
   "name": "python",
   "nbconvert_exporter": "python",
   "pygments_lexer": "ipython3",
   "version": "3.11.5"
  }
 },
 "nbformat": 4,
 "nbformat_minor": 2
}
