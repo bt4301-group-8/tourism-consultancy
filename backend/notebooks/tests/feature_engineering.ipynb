{
 "cells": [
  {
   "cell_type": "markdown",
   "id": "311421df",
   "metadata": {},
   "source": [
    "## Package installation"
   ]
  },
  {
   "cell_type": "code",
   "execution_count": 1,
   "id": "e89fda0c",
   "metadata": {},
   "outputs": [
    {
     "name": "stdout",
     "output_type": "stream",
     "text": [
      "Requirement already satisfied: pandas in /opt/anaconda3/lib/python3.12/site-packages (2.2.2)\n",
      "Requirement already satisfied: numpy in /opt/anaconda3/lib/python3.12/site-packages (1.26.4)\n",
      "Requirement already satisfied: matplotlib in /opt/anaconda3/lib/python3.12/site-packages (3.8.4)\n",
      "Requirement already satisfied: seaborn in /opt/anaconda3/lib/python3.12/site-packages (0.13.2)\n",
      "Requirement already satisfied: openpyxl in /opt/anaconda3/lib/python3.12/site-packages (3.1.2)\n",
      "Requirement already satisfied: python-dateutil>=2.8.2 in /opt/anaconda3/lib/python3.12/site-packages (from pandas) (2.9.0.post0)\n",
      "Requirement already satisfied: pytz>=2020.1 in /opt/anaconda3/lib/python3.12/site-packages (from pandas) (2024.1)\n",
      "Requirement already satisfied: tzdata>=2022.7 in /opt/anaconda3/lib/python3.12/site-packages (from pandas) (2023.3)\n",
      "Requirement already satisfied: contourpy>=1.0.1 in /opt/anaconda3/lib/python3.12/site-packages (from matplotlib) (1.2.0)\n",
      "Requirement already satisfied: cycler>=0.10 in /opt/anaconda3/lib/python3.12/site-packages (from matplotlib) (0.11.0)\n",
      "Requirement already satisfied: fonttools>=4.22.0 in /opt/anaconda3/lib/python3.12/site-packages (from matplotlib) (4.51.0)\n",
      "Requirement already satisfied: kiwisolver>=1.3.1 in /opt/anaconda3/lib/python3.12/site-packages (from matplotlib) (1.4.4)\n",
      "Requirement already satisfied: packaging>=20.0 in /opt/anaconda3/lib/python3.12/site-packages (from matplotlib) (23.2)\n",
      "Requirement already satisfied: pillow>=8 in /opt/anaconda3/lib/python3.12/site-packages (from matplotlib) (10.3.0)\n",
      "Requirement already satisfied: pyparsing>=2.3.1 in /opt/anaconda3/lib/python3.12/site-packages (from matplotlib) (3.0.9)\n",
      "Requirement already satisfied: et-xmlfile in /opt/anaconda3/lib/python3.12/site-packages (from openpyxl) (1.1.0)\n",
      "Requirement already satisfied: six>=1.5 in /opt/anaconda3/lib/python3.12/site-packages (from python-dateutil>=2.8.2->pandas) (1.16.0)\n",
      "Requirement already satisfied: matplotlib in /opt/anaconda3/lib/python3.12/site-packages (3.8.4)\n",
      "Requirement already satisfied: seaborn in /opt/anaconda3/lib/python3.12/site-packages (0.13.2)\n",
      "Requirement already satisfied: contourpy>=1.0.1 in /opt/anaconda3/lib/python3.12/site-packages (from matplotlib) (1.2.0)\n",
      "Requirement already satisfied: cycler>=0.10 in /opt/anaconda3/lib/python3.12/site-packages (from matplotlib) (0.11.0)\n",
      "Requirement already satisfied: fonttools>=4.22.0 in /opt/anaconda3/lib/python3.12/site-packages (from matplotlib) (4.51.0)\n",
      "Requirement already satisfied: kiwisolver>=1.3.1 in /opt/anaconda3/lib/python3.12/site-packages (from matplotlib) (1.4.4)\n",
      "Requirement already satisfied: numpy>=1.21 in /opt/anaconda3/lib/python3.12/site-packages (from matplotlib) (1.26.4)\n",
      "Requirement already satisfied: packaging>=20.0 in /opt/anaconda3/lib/python3.12/site-packages (from matplotlib) (23.2)\n",
      "Requirement already satisfied: pillow>=8 in /opt/anaconda3/lib/python3.12/site-packages (from matplotlib) (10.3.0)\n",
      "Requirement already satisfied: pyparsing>=2.3.1 in /opt/anaconda3/lib/python3.12/site-packages (from matplotlib) (3.0.9)\n",
      "Requirement already satisfied: python-dateutil>=2.7 in /opt/anaconda3/lib/python3.12/site-packages (from matplotlib) (2.9.0.post0)\n",
      "Requirement already satisfied: pandas>=1.2 in /opt/anaconda3/lib/python3.12/site-packages (from seaborn) (2.2.2)\n",
      "Requirement already satisfied: pytz>=2020.1 in /opt/anaconda3/lib/python3.12/site-packages (from pandas>=1.2->seaborn) (2024.1)\n",
      "Requirement already satisfied: tzdata>=2022.7 in /opt/anaconda3/lib/python3.12/site-packages (from pandas>=1.2->seaborn) (2023.3)\n",
      "Requirement already satisfied: six>=1.5 in /opt/anaconda3/lib/python3.12/site-packages (from python-dateutil>=2.7->matplotlib) (1.16.0)\n",
      "Requirement already satisfied: pymongo in /opt/anaconda3/lib/python3.12/site-packages (4.12.0)\n",
      "Requirement already satisfied: dnspython<3.0.0,>=1.16.0 in /opt/anaconda3/lib/python3.12/site-packages (from pymongo) (2.7.0)\n"
     ]
    }
   ],
   "source": [
    "#package installation\n",
    "! pip install pandas numpy matplotlib seaborn openpyxl\n",
    "! pip install matplotlib seaborn\n",
    "! pip install pymongo"
   ]
  },
  {
   "cell_type": "code",
   "execution_count": 2,
   "id": "77289853",
   "metadata": {},
   "outputs": [],
   "source": [
    "import pandas as pd\n",
    "import numpy as np\n",
    "import matplotlib.pyplot as plt\n",
    "import seaborn as sns\n",
    "import json\n",
    "import os\n",
    "from sklearn.preprocessing import StandardScaler"
   ]
  },
  {
   "cell_type": "markdown",
   "id": "85991678",
   "metadata": {},
   "source": [
    "## Read raw data files"
   ]
  },
  {
   "cell_type": "code",
   "execution_count": null,
   "id": "267462bb",
   "metadata": {},
   "outputs": [
    {
     "ename": "FileNotFoundError",
     "evalue": "[Errno 2] No such file or directory: '../../data/all_countries_reviews.csv'",
     "output_type": "error",
     "traceback": [
      "\u001b[0;31m---------------------------------------------------------------------------\u001b[0m",
      "\u001b[0;31mFileNotFoundError\u001b[0m                         Traceback (most recent call last)",
      "Cell \u001b[0;32mIn[3], line 2\u001b[0m\n\u001b[1;32m      1\u001b[0m \u001b[38;5;66;03m# CSV Files\u001b[39;00m\n\u001b[0;32m----> 2\u001b[0m reviews_df \u001b[38;5;241m=\u001b[39m pd\u001b[38;5;241m.\u001b[39mread_csv(\u001b[38;5;124m\"\u001b[39m\u001b[38;5;124m../../data/all_countries_reviews.csv\u001b[39m\u001b[38;5;124m\"\u001b[39m)\n\u001b[1;32m      3\u001b[0m currency_df \u001b[38;5;241m=\u001b[39m pd\u001b[38;5;241m.\u001b[39mread_csv(\u001b[38;5;124m\"\u001b[39m\u001b[38;5;124m../../data/southeast_asia_currency_monthly_avg.csv\u001b[39m\u001b[38;5;124m\"\u001b[39m)\n\u001b[1;32m      4\u001b[0m reddit_df \u001b[38;5;241m=\u001b[39m pd\u001b[38;5;241m.\u001b[39mread_csv(\u001b[38;5;124m\"\u001b[39m\u001b[38;5;124m../../data/merged_reddit_data.csv\u001b[39m\u001b[38;5;124m\"\u001b[39m)\n",
      "File \u001b[0;32m/opt/anaconda3/lib/python3.12/site-packages/pandas/io/parsers/readers.py:1026\u001b[0m, in \u001b[0;36mread_csv\u001b[0;34m(filepath_or_buffer, sep, delimiter, header, names, index_col, usecols, dtype, engine, converters, true_values, false_values, skipinitialspace, skiprows, skipfooter, nrows, na_values, keep_default_na, na_filter, verbose, skip_blank_lines, parse_dates, infer_datetime_format, keep_date_col, date_parser, date_format, dayfirst, cache_dates, iterator, chunksize, compression, thousands, decimal, lineterminator, quotechar, quoting, doublequote, escapechar, comment, encoding, encoding_errors, dialect, on_bad_lines, delim_whitespace, low_memory, memory_map, float_precision, storage_options, dtype_backend)\u001b[0m\n\u001b[1;32m   1013\u001b[0m kwds_defaults \u001b[38;5;241m=\u001b[39m _refine_defaults_read(\n\u001b[1;32m   1014\u001b[0m     dialect,\n\u001b[1;32m   1015\u001b[0m     delimiter,\n\u001b[0;32m   (...)\u001b[0m\n\u001b[1;32m   1022\u001b[0m     dtype_backend\u001b[38;5;241m=\u001b[39mdtype_backend,\n\u001b[1;32m   1023\u001b[0m )\n\u001b[1;32m   1024\u001b[0m kwds\u001b[38;5;241m.\u001b[39mupdate(kwds_defaults)\n\u001b[0;32m-> 1026\u001b[0m \u001b[38;5;28;01mreturn\u001b[39;00m _read(filepath_or_buffer, kwds)\n",
      "File \u001b[0;32m/opt/anaconda3/lib/python3.12/site-packages/pandas/io/parsers/readers.py:620\u001b[0m, in \u001b[0;36m_read\u001b[0;34m(filepath_or_buffer, kwds)\u001b[0m\n\u001b[1;32m    617\u001b[0m _validate_names(kwds\u001b[38;5;241m.\u001b[39mget(\u001b[38;5;124m\"\u001b[39m\u001b[38;5;124mnames\u001b[39m\u001b[38;5;124m\"\u001b[39m, \u001b[38;5;28;01mNone\u001b[39;00m))\n\u001b[1;32m    619\u001b[0m \u001b[38;5;66;03m# Create the parser.\u001b[39;00m\n\u001b[0;32m--> 620\u001b[0m parser \u001b[38;5;241m=\u001b[39m TextFileReader(filepath_or_buffer, \u001b[38;5;241m*\u001b[39m\u001b[38;5;241m*\u001b[39mkwds)\n\u001b[1;32m    622\u001b[0m \u001b[38;5;28;01mif\u001b[39;00m chunksize \u001b[38;5;129;01mor\u001b[39;00m iterator:\n\u001b[1;32m    623\u001b[0m     \u001b[38;5;28;01mreturn\u001b[39;00m parser\n",
      "File \u001b[0;32m/opt/anaconda3/lib/python3.12/site-packages/pandas/io/parsers/readers.py:1620\u001b[0m, in \u001b[0;36mTextFileReader.__init__\u001b[0;34m(self, f, engine, **kwds)\u001b[0m\n\u001b[1;32m   1617\u001b[0m     \u001b[38;5;28mself\u001b[39m\u001b[38;5;241m.\u001b[39moptions[\u001b[38;5;124m\"\u001b[39m\u001b[38;5;124mhas_index_names\u001b[39m\u001b[38;5;124m\"\u001b[39m] \u001b[38;5;241m=\u001b[39m kwds[\u001b[38;5;124m\"\u001b[39m\u001b[38;5;124mhas_index_names\u001b[39m\u001b[38;5;124m\"\u001b[39m]\n\u001b[1;32m   1619\u001b[0m \u001b[38;5;28mself\u001b[39m\u001b[38;5;241m.\u001b[39mhandles: IOHandles \u001b[38;5;241m|\u001b[39m \u001b[38;5;28;01mNone\u001b[39;00m \u001b[38;5;241m=\u001b[39m \u001b[38;5;28;01mNone\u001b[39;00m\n\u001b[0;32m-> 1620\u001b[0m \u001b[38;5;28mself\u001b[39m\u001b[38;5;241m.\u001b[39m_engine \u001b[38;5;241m=\u001b[39m \u001b[38;5;28mself\u001b[39m\u001b[38;5;241m.\u001b[39m_make_engine(f, \u001b[38;5;28mself\u001b[39m\u001b[38;5;241m.\u001b[39mengine)\n",
      "File \u001b[0;32m/opt/anaconda3/lib/python3.12/site-packages/pandas/io/parsers/readers.py:1880\u001b[0m, in \u001b[0;36mTextFileReader._make_engine\u001b[0;34m(self, f, engine)\u001b[0m\n\u001b[1;32m   1878\u001b[0m     \u001b[38;5;28;01mif\u001b[39;00m \u001b[38;5;124m\"\u001b[39m\u001b[38;5;124mb\u001b[39m\u001b[38;5;124m\"\u001b[39m \u001b[38;5;129;01mnot\u001b[39;00m \u001b[38;5;129;01min\u001b[39;00m mode:\n\u001b[1;32m   1879\u001b[0m         mode \u001b[38;5;241m+\u001b[39m\u001b[38;5;241m=\u001b[39m \u001b[38;5;124m\"\u001b[39m\u001b[38;5;124mb\u001b[39m\u001b[38;5;124m\"\u001b[39m\n\u001b[0;32m-> 1880\u001b[0m \u001b[38;5;28mself\u001b[39m\u001b[38;5;241m.\u001b[39mhandles \u001b[38;5;241m=\u001b[39m get_handle(\n\u001b[1;32m   1881\u001b[0m     f,\n\u001b[1;32m   1882\u001b[0m     mode,\n\u001b[1;32m   1883\u001b[0m     encoding\u001b[38;5;241m=\u001b[39m\u001b[38;5;28mself\u001b[39m\u001b[38;5;241m.\u001b[39moptions\u001b[38;5;241m.\u001b[39mget(\u001b[38;5;124m\"\u001b[39m\u001b[38;5;124mencoding\u001b[39m\u001b[38;5;124m\"\u001b[39m, \u001b[38;5;28;01mNone\u001b[39;00m),\n\u001b[1;32m   1884\u001b[0m     compression\u001b[38;5;241m=\u001b[39m\u001b[38;5;28mself\u001b[39m\u001b[38;5;241m.\u001b[39moptions\u001b[38;5;241m.\u001b[39mget(\u001b[38;5;124m\"\u001b[39m\u001b[38;5;124mcompression\u001b[39m\u001b[38;5;124m\"\u001b[39m, \u001b[38;5;28;01mNone\u001b[39;00m),\n\u001b[1;32m   1885\u001b[0m     memory_map\u001b[38;5;241m=\u001b[39m\u001b[38;5;28mself\u001b[39m\u001b[38;5;241m.\u001b[39moptions\u001b[38;5;241m.\u001b[39mget(\u001b[38;5;124m\"\u001b[39m\u001b[38;5;124mmemory_map\u001b[39m\u001b[38;5;124m\"\u001b[39m, \u001b[38;5;28;01mFalse\u001b[39;00m),\n\u001b[1;32m   1886\u001b[0m     is_text\u001b[38;5;241m=\u001b[39mis_text,\n\u001b[1;32m   1887\u001b[0m     errors\u001b[38;5;241m=\u001b[39m\u001b[38;5;28mself\u001b[39m\u001b[38;5;241m.\u001b[39moptions\u001b[38;5;241m.\u001b[39mget(\u001b[38;5;124m\"\u001b[39m\u001b[38;5;124mencoding_errors\u001b[39m\u001b[38;5;124m\"\u001b[39m, \u001b[38;5;124m\"\u001b[39m\u001b[38;5;124mstrict\u001b[39m\u001b[38;5;124m\"\u001b[39m),\n\u001b[1;32m   1888\u001b[0m     storage_options\u001b[38;5;241m=\u001b[39m\u001b[38;5;28mself\u001b[39m\u001b[38;5;241m.\u001b[39moptions\u001b[38;5;241m.\u001b[39mget(\u001b[38;5;124m\"\u001b[39m\u001b[38;5;124mstorage_options\u001b[39m\u001b[38;5;124m\"\u001b[39m, \u001b[38;5;28;01mNone\u001b[39;00m),\n\u001b[1;32m   1889\u001b[0m )\n\u001b[1;32m   1890\u001b[0m \u001b[38;5;28;01massert\u001b[39;00m \u001b[38;5;28mself\u001b[39m\u001b[38;5;241m.\u001b[39mhandles \u001b[38;5;129;01mis\u001b[39;00m \u001b[38;5;129;01mnot\u001b[39;00m \u001b[38;5;28;01mNone\u001b[39;00m\n\u001b[1;32m   1891\u001b[0m f \u001b[38;5;241m=\u001b[39m \u001b[38;5;28mself\u001b[39m\u001b[38;5;241m.\u001b[39mhandles\u001b[38;5;241m.\u001b[39mhandle\n",
      "File \u001b[0;32m/opt/anaconda3/lib/python3.12/site-packages/pandas/io/common.py:873\u001b[0m, in \u001b[0;36mget_handle\u001b[0;34m(path_or_buf, mode, encoding, compression, memory_map, is_text, errors, storage_options)\u001b[0m\n\u001b[1;32m    868\u001b[0m \u001b[38;5;28;01melif\u001b[39;00m \u001b[38;5;28misinstance\u001b[39m(handle, \u001b[38;5;28mstr\u001b[39m):\n\u001b[1;32m    869\u001b[0m     \u001b[38;5;66;03m# Check whether the filename is to be opened in binary mode.\u001b[39;00m\n\u001b[1;32m    870\u001b[0m     \u001b[38;5;66;03m# Binary mode does not support 'encoding' and 'newline'.\u001b[39;00m\n\u001b[1;32m    871\u001b[0m     \u001b[38;5;28;01mif\u001b[39;00m ioargs\u001b[38;5;241m.\u001b[39mencoding \u001b[38;5;129;01mand\u001b[39;00m \u001b[38;5;124m\"\u001b[39m\u001b[38;5;124mb\u001b[39m\u001b[38;5;124m\"\u001b[39m \u001b[38;5;129;01mnot\u001b[39;00m \u001b[38;5;129;01min\u001b[39;00m ioargs\u001b[38;5;241m.\u001b[39mmode:\n\u001b[1;32m    872\u001b[0m         \u001b[38;5;66;03m# Encoding\u001b[39;00m\n\u001b[0;32m--> 873\u001b[0m         handle \u001b[38;5;241m=\u001b[39m \u001b[38;5;28mopen\u001b[39m(\n\u001b[1;32m    874\u001b[0m             handle,\n\u001b[1;32m    875\u001b[0m             ioargs\u001b[38;5;241m.\u001b[39mmode,\n\u001b[1;32m    876\u001b[0m             encoding\u001b[38;5;241m=\u001b[39mioargs\u001b[38;5;241m.\u001b[39mencoding,\n\u001b[1;32m    877\u001b[0m             errors\u001b[38;5;241m=\u001b[39merrors,\n\u001b[1;32m    878\u001b[0m             newline\u001b[38;5;241m=\u001b[39m\u001b[38;5;124m\"\u001b[39m\u001b[38;5;124m\"\u001b[39m,\n\u001b[1;32m    879\u001b[0m         )\n\u001b[1;32m    880\u001b[0m     \u001b[38;5;28;01melse\u001b[39;00m:\n\u001b[1;32m    881\u001b[0m         \u001b[38;5;66;03m# Binary mode\u001b[39;00m\n\u001b[1;32m    882\u001b[0m         handle \u001b[38;5;241m=\u001b[39m \u001b[38;5;28mopen\u001b[39m(handle, ioargs\u001b[38;5;241m.\u001b[39mmode)\n",
      "\u001b[0;31mFileNotFoundError\u001b[0m: [Errno 2] No such file or directory: '../../data/all_countries_reviews.csv'"
     ]
    }
   ],
   "source": [
    "# CSV Files\n",
    "reviews_df = pd.read_csv(\"../../data/all_countries_reviews.csv\")\n",
    "currency_df = pd.read_csv(\"../../data/southeast_asia_currency_monthly_avg.csv\")\n",
    "reddit_df = pd.read_csv(\"../../data/merged_reddit_data.csv\")\n",
    "\n",
    "# Excel File\n",
    "visitors_df = pd.read_excel(\"../../data/monthly_num_visitors.xlsx\")\n",
    "\n",
    "# JSON Files\n",
    "\n",
    "with open(\"../../data/sentiment_analysis(reddit).json\", \"r\") as f:\n",
    "    reddit_sentiment = json.load(f)\n",
    "\n",
    "with open(\"../../data/sentiment_analysis_instagram_timed.json\", \"r\") as f:\n",
    "    instagram_sentiment = json.load(f)\n"
   ]
  },
  {
   "cell_type": "markdown",
   "id": "0da99aa3",
   "metadata": {},
   "source": [
    "## Prepare reddit sentiment dataframe"
   ]
  },
  {
   "cell_type": "code",
   "execution_count": null,
   "id": "0fa9cf1b",
   "metadata": {},
   "outputs": [
    {
     "name": "stderr",
     "output_type": "stream",
     "text": [
      "/var/folders/85/3q25ml057m51x2d6fx8s4w740000gn/T/ipykernel_33768/503263862.py:46: FutureWarning: Series.fillna with 'method' is deprecated and will raise in a future version. Use obj.ffill() or obj.bfill() instead.\n",
      "  .fillna(method='ffill')                                # fill leading NaNs\n",
      "/var/folders/85/3q25ml057m51x2d6fx8s4w740000gn/T/ipykernel_33768/503263862.py:47: FutureWarning: Series.fillna with 'method' is deprecated and will raise in a future version. Use obj.ffill() or obj.bfill() instead.\n",
      "  .fillna(method='bfill')                                # fill trailing NaNs\n"
     ]
    }
   ],
   "source": [
    "#convert to dataframe\n",
    "reddit_df = pd.DataFrame(reddit_df)\n",
    "\n",
    "#keep only relevant columns\n",
    "columns_to_keep = [\n",
    "    \"created_at\",\n",
    "    \"score\", #The number of upvotes minus the number of downvotes.\n",
    "    \"vader_compound\", # From -1.0 (most negative) to +1.0 (most positive).\n",
    "    \"country\",\n",
    "]\n",
    "reddit_df = reddit_df[columns_to_keep]\n",
    "\n",
    "# Properly name the columns\n",
    "reddit_df = reddit_df.rename(columns={\n",
    "    'created_at': 'month_year',\n",
    "    'vader_compound': 'reddit_sentiment', \n",
    "    'score': 'popularity'\n",
    "})\n",
    "\n",
    "# Convert 'month_year' to datetime, then format as 'YYYY-MM'\n",
    "reddit_df['month_year'] = pd.to_datetime(reddit_df['month_year'], format='%m/%d/%y').dt.strftime('%Y-%m')\n",
    "\n",
    "# weight the raw sentiment using popularity\n",
    "total_popularity_per_group = reddit_df.groupby(['country', 'month_year'])['popularity'].transform('sum')\n",
    "reddit_df['popularity_percentage'] = (reddit_df['popularity'] / total_popularity_per_group)\n",
    "reddit_df['reddit_sentiment'] = (reddit_df['reddit_sentiment'] * reddit_df['popularity_percentage'])\n",
    "\n",
    "# drop columns not in use\n",
    "reddit_df = reddit_df.drop(columns=['popularity',  'popularity_percentage'])\n",
    "\n",
    "# aggregate individual country's average sentiment score\n",
    "reddit_df = reddit_df.groupby([\"country\", \"month_year\"]).agg({\n",
    "    \"reddit_sentiment\": \"sum\"\n",
    "}).reset_index()\n",
    "\n",
    "#if missing data, backfill\n",
    "# sort by country and month_year\n",
    "reddit_df = reddit_df.sort_values(by=[\"country\", \"month_year\"])\n",
    "\n",
    "# interpolate, forward fill, then backward fill within each country group\n",
    "reddit_df[\"reddit_sentiment\"] = (\n",
    "    reddit_df\n",
    "    .groupby(\"country\")[\"reddit_sentiment\"]\n",
    "    .apply(lambda group: (\n",
    "        group.interpolate(method='linear', limit_direction='both')  # interpolate\n",
    "             .fillna(method='ffill')                                # fill leading NaNs\n",
    "             .fillna(method='bfill')                                # fill trailing NaNs\n",
    "    ))\n",
    "    .reset_index(level=0, drop=True)\n",
    ")\n",
    "\n",
    "#lag by 1 moth\n",
    "reddit_df = reddit_df.sort_values(['country', 'month_year'])\n",
    "reddit_df['reddit_sentiment_lag1'] = (\n",
    "    reddit_df.groupby('country')['reddit_sentiment']\n",
    "    .shift(periods=1)  # Shift down by 1 row\n",
    ")\n",
    "\n"
   ]
  },
  {
   "cell_type": "code",
   "execution_count": null,
   "id": "b0ea7285",
   "metadata": {},
   "outputs": [
    {
     "data": {
      "text/html": [
       "<div>\n",
       "<style scoped>\n",
       "    .dataframe tbody tr th:only-of-type {\n",
       "        vertical-align: middle;\n",
       "    }\n",
       "\n",
       "    .dataframe tbody tr th {\n",
       "        vertical-align: top;\n",
       "    }\n",
       "\n",
       "    .dataframe thead th {\n",
       "        text-align: right;\n",
       "    }\n",
       "</style>\n",
       "<table border=\"1\" class=\"dataframe\">\n",
       "  <thead>\n",
       "    <tr style=\"text-align: right;\">\n",
       "      <th></th>\n",
       "      <th>country</th>\n",
       "      <th>month_year</th>\n",
       "      <th>reddit_sentiment</th>\n",
       "    </tr>\n",
       "  </thead>\n",
       "  <tbody>\n",
       "    <tr>\n",
       "      <th>0</th>\n",
       "      <td>Brunei</td>\n",
       "      <td>2022-01</td>\n",
       "      <td>0.672472</td>\n",
       "    </tr>\n",
       "    <tr>\n",
       "      <th>1</th>\n",
       "      <td>Brunei</td>\n",
       "      <td>2022-02</td>\n",
       "      <td>0.515935</td>\n",
       "    </tr>\n",
       "    <tr>\n",
       "      <th>2</th>\n",
       "      <td>Brunei</td>\n",
       "      <td>2022-03</td>\n",
       "      <td>0.077097</td>\n",
       "    </tr>\n",
       "    <tr>\n",
       "      <th>3</th>\n",
       "      <td>Brunei</td>\n",
       "      <td>2022-04</td>\n",
       "      <td>0.116462</td>\n",
       "    </tr>\n",
       "    <tr>\n",
       "      <th>4</th>\n",
       "      <td>Brunei</td>\n",
       "      <td>2022-05</td>\n",
       "      <td>0.144865</td>\n",
       "    </tr>\n",
       "  </tbody>\n",
       "</table>\n",
       "</div>"
      ],
      "text/plain": [
       "  country month_year  reddit_sentiment\n",
       "0  Brunei    2022-01          0.672472\n",
       "1  Brunei    2022-02          0.515935\n",
       "2  Brunei    2022-03          0.077097\n",
       "3  Brunei    2022-04          0.116462\n",
       "4  Brunei    2022-05          0.144865"
      ]
     },
     "execution_count": 66,
     "metadata": {},
     "output_type": "execute_result"
    }
   ],
   "source": [
    "reddit_df.head()"
   ]
  },
  {
   "cell_type": "markdown",
   "id": "7d071e95",
   "metadata": {},
   "source": [
    "## Prepare instagram sentiment dataframe"
   ]
  },
  {
   "cell_type": "code",
   "execution_count": null,
   "id": "db26661b",
   "metadata": {},
   "outputs": [
    {
     "name": "stderr",
     "output_type": "stream",
     "text": [
      "/var/folders/85/3q25ml057m51x2d6fx8s4w740000gn/T/ipykernel_33768/3338870893.py:38: FutureWarning: Series.fillna with 'method' is deprecated and will raise in a future version. Use obj.ffill() or obj.bfill() instead.\n",
      "  .fillna(method='ffill')                                # fill leading NaNs\n",
      "/var/folders/85/3q25ml057m51x2d6fx8s4w740000gn/T/ipykernel_33768/3338870893.py:39: FutureWarning: Series.fillna with 'method' is deprecated and will raise in a future version. Use obj.ffill() or obj.bfill() instead.\n",
      "  .fillna(method='bfill')                                # fill trailing NaNs\n"
     ]
    }
   ],
   "source": [
    "#convert to dataframe\n",
    "ig_df = pd.DataFrame(instagram_sentiment)\n",
    "\n",
    "# capitalise the first letter of countries\n",
    "ig_df[\"country\"] = ig_df[\"country\"].str.title()\n",
    "\n",
    "#change month_year format to align with other datasets\n",
    "ig_df['date'] = pd.to_datetime(ig_df['date'], errors='coerce')\n",
    "ig_df['month_year'] = ig_df['date'].dt.strftime('%Y-%m')\n",
    "\n",
    "# weight the raw sentiment using popularity\n",
    "total_likes_per_group = ig_df.groupby(['country', 'month_year'])['like_count'].transform('sum')\n",
    "ig_df['like_percentage'] = (ig_df['like_count'] / total_likes_per_group)\n",
    "ig_df['weighted_sentiment_score'] = (ig_df['sentiment_score'] * ig_df['like_percentage'])\n",
    "\n",
    "#only keeping the sentiment score\n",
    "columns_to_keep = [\n",
    "    \"month_year\",\n",
    "    \"country\",\n",
    "    \"sentiment_score\",\n",
    "    \"weighted_sentiment_score\"\n",
    "]\n",
    "ig_df = ig_df[columns_to_keep]\n",
    "\n",
    "#agggregate sentiment score\n",
    "ig_sentiment = ig_df.groupby(\n",
    "    [\"country\", \"month_year\"]\n",
    ")[\"weighted_sentiment_score\"].sum().reset_index()\n",
    "ig_sentiment.columns = [\"country\", \"month_year\", \"ig_sentiment\"]\n",
    "ig_sentiment['month_year'] = pd.to_datetime(ig_sentiment['month_year'])\n",
    "\n",
    "# interpolate, forward fill, then backward fill within each country group\n",
    "ig_sentiment[\"ig_sentiment\"] = (\n",
    "    ig_sentiment\n",
    "    .groupby(\"country\")[\"ig_sentiment\"]\n",
    "    .apply(lambda group: (\n",
    "        group.interpolate(method='linear', limit_direction='both')  # interpolate\n",
    "             .fillna(method='ffill')                                # fill leading NaNs\n",
    "             .fillna(method='bfill')                                # fill trailing NaNs\n",
    "    ))\n",
    "    .reset_index(level=0, drop=True)\n",
    ")\n",
    "\n",
    "#lag by 1 moth\n",
    "ig_sentiment = ig_sentiment.sort_values(['country', 'month_year'])\n",
    "ig_sentiment['ig_sentiment_lag1'] = (\n",
    "    ig_sentiment.groupby('country')['ig_sentiment']\n",
    "    .shift(periods=1)  # Shift down by 1 row\n",
    ")"
   ]
  },
  {
   "cell_type": "code",
   "execution_count": null,
   "id": "3eb2d2c5",
   "metadata": {},
   "outputs": [
    {
     "data": {
      "text/html": [
       "<div>\n",
       "<style scoped>\n",
       "    .dataframe tbody tr th:only-of-type {\n",
       "        vertical-align: middle;\n",
       "    }\n",
       "\n",
       "    .dataframe tbody tr th {\n",
       "        vertical-align: top;\n",
       "    }\n",
       "\n",
       "    .dataframe thead th {\n",
       "        text-align: right;\n",
       "    }\n",
       "</style>\n",
       "<table border=\"1\" class=\"dataframe\">\n",
       "  <thead>\n",
       "    <tr style=\"text-align: right;\">\n",
       "      <th></th>\n",
       "      <th>country</th>\n",
       "      <th>month_year</th>\n",
       "      <th>ig_sentiment</th>\n",
       "      <th>reddit_sentiment</th>\n",
       "    </tr>\n",
       "  </thead>\n",
       "  <tbody>\n",
       "    <tr>\n",
       "      <th>0</th>\n",
       "      <td>Brunei</td>\n",
       "      <td>2022-01-01</td>\n",
       "      <td>0.766694</td>\n",
       "      <td>0.766694</td>\n",
       "    </tr>\n",
       "    <tr>\n",
       "      <th>1</th>\n",
       "      <td>Brunei</td>\n",
       "      <td>2022-02-01</td>\n",
       "      <td>0.736188</td>\n",
       "      <td>0.736188</td>\n",
       "    </tr>\n",
       "    <tr>\n",
       "      <th>2</th>\n",
       "      <td>Brunei</td>\n",
       "      <td>2022-03-01</td>\n",
       "      <td>0.837473</td>\n",
       "      <td>0.837473</td>\n",
       "    </tr>\n",
       "    <tr>\n",
       "      <th>3</th>\n",
       "      <td>Brunei</td>\n",
       "      <td>2022-04-01</td>\n",
       "      <td>0.915479</td>\n",
       "      <td>0.915479</td>\n",
       "    </tr>\n",
       "    <tr>\n",
       "      <th>4</th>\n",
       "      <td>Brunei</td>\n",
       "      <td>2022-05-01</td>\n",
       "      <td>0.527822</td>\n",
       "      <td>0.527822</td>\n",
       "    </tr>\n",
       "  </tbody>\n",
       "</table>\n",
       "</div>"
      ],
      "text/plain": [
       "  country month_year  ig_sentiment  reddit_sentiment\n",
       "0  Brunei 2022-01-01      0.766694          0.766694\n",
       "1  Brunei 2022-02-01      0.736188          0.736188\n",
       "2  Brunei 2022-03-01      0.837473          0.837473\n",
       "3  Brunei 2022-04-01      0.915479          0.915479\n",
       "4  Brunei 2022-05-01      0.527822          0.527822"
      ]
     },
     "execution_count": 73,
     "metadata": {},
     "output_type": "execute_result"
    }
   ],
   "source": [
    "ig_sentiment.head(5)"
   ]
  },
  {
   "cell_type": "markdown",
   "id": "407a4375",
   "metadata": {},
   "source": [
    "## Prepare tripadvisor review dataframe"
   ]
  },
  {
   "cell_type": "code",
   "execution_count": null,
   "id": "276170f7",
   "metadata": {},
   "outputs": [
    {
     "name": "stderr",
     "output_type": "stream",
     "text": [
      "/var/folders/85/3q25ml057m51x2d6fx8s4w740000gn/T/ipykernel_33768/1886624204.py:3: UserWarning: Could not infer format, so each element will be parsed individually, falling back to `dateutil`. To ensure parsing is consistent and as-expected, please specify a format.\n",
      "  reviews_df[\"trip_date\"] = pd.to_datetime(reviews_df[\"trip_date\"], errors=\"coerce\")\n"
     ]
    }
   ],
   "source": [
    "reviews_df = pd.DataFrame(reviews_df)\n",
    "# Convert trip_date to datetime and extract month-year\n",
    "reviews_df[\"trip_date\"] = pd.to_datetime(reviews_df[\"trip_date\"], errors=\"coerce\")\n",
    "reviews_df[\"month_year\"] = reviews_df[\"trip_date\"].dt.strftime(\"%Y-%m\")\n",
    "columns_to_keep = [\n",
    "    \"month_year\",\n",
    "    \"country\",\n",
    "    \"rating\"\n",
    "]\n",
    "reviews_df = reviews_df[columns_to_keep]\n",
    "\n",
    "# aggregate to find average monthly rating\n",
    "review_agg = reviews_df.groupby([\"country\", \"month_year\"])[\"rating\"].mean().reset_index()\n",
    "review_agg = review_agg.rename(columns={\"rating\": \"trip_advisor_rating\"})\n",
    "review_agg['month_year'] = pd.to_datetime(review_agg['month_year'])\n",
    "\n",
    "# interpolate, forward fill, then backward fill within each country group\n",
    "review_agg[\"trip_advisor_rating\"] = (\n",
    "    review_agg\n",
    "    .groupby(\"country\")[\"trip_advisor_rating\"]\n",
    "    .apply(lambda group: (\n",
    "        group.interpolate(method='linear', limit_direction='both')  # interpolate\n",
    "             .fillna(method='ffill')                                # fill leading NaNs\n",
    "             .fillna(method='bfill')                                # fill trailing NaNs\n",
    "    ))\n",
    "    .reset_index(level=0, drop=True)\n",
    ")"
   ]
  },
  {
   "cell_type": "code",
   "execution_count": null,
   "id": "f7cc95e2",
   "metadata": {},
   "outputs": [
    {
     "data": {
      "text/html": [
       "<div>\n",
       "<style scoped>\n",
       "    .dataframe tbody tr th:only-of-type {\n",
       "        vertical-align: middle;\n",
       "    }\n",
       "\n",
       "    .dataframe tbody tr th {\n",
       "        vertical-align: top;\n",
       "    }\n",
       "\n",
       "    .dataframe thead th {\n",
       "        text-align: right;\n",
       "    }\n",
       "</style>\n",
       "<table border=\"1\" class=\"dataframe\">\n",
       "  <thead>\n",
       "    <tr style=\"text-align: right;\">\n",
       "      <th></th>\n",
       "      <th>country</th>\n",
       "      <th>month_year</th>\n",
       "      <th>trip_advisor_rating</th>\n",
       "    </tr>\n",
       "  </thead>\n",
       "  <tbody>\n",
       "    <tr>\n",
       "      <th>0</th>\n",
       "      <td>Brunei</td>\n",
       "      <td>2015-09-01</td>\n",
       "      <td>4.5</td>\n",
       "    </tr>\n",
       "    <tr>\n",
       "      <th>1</th>\n",
       "      <td>Brunei</td>\n",
       "      <td>2015-10-01</td>\n",
       "      <td>5.0</td>\n",
       "    </tr>\n",
       "    <tr>\n",
       "      <th>2</th>\n",
       "      <td>Brunei</td>\n",
       "      <td>2016-01-01</td>\n",
       "      <td>5.0</td>\n",
       "    </tr>\n",
       "    <tr>\n",
       "      <th>3</th>\n",
       "      <td>Brunei</td>\n",
       "      <td>2016-02-01</td>\n",
       "      <td>5.0</td>\n",
       "    </tr>\n",
       "    <tr>\n",
       "      <th>4</th>\n",
       "      <td>Brunei</td>\n",
       "      <td>2016-04-01</td>\n",
       "      <td>4.5</td>\n",
       "    </tr>\n",
       "  </tbody>\n",
       "</table>\n",
       "</div>"
      ],
      "text/plain": [
       "  country month_year  trip_advisor_rating\n",
       "0  Brunei 2015-09-01                  4.5\n",
       "1  Brunei 2015-10-01                  5.0\n",
       "2  Brunei 2016-01-01                  5.0\n",
       "3  Brunei 2016-02-01                  5.0\n",
       "4  Brunei 2016-04-01                  4.5"
      ]
     },
     "execution_count": 70,
     "metadata": {},
     "output_type": "execute_result"
    }
   ],
   "source": [
    "review_agg.head(5)"
   ]
  },
  {
   "cell_type": "markdown",
   "id": "7e8b8659",
   "metadata": {},
   "source": [
    "## Prepare exchange rate dataframe"
   ]
  },
  {
   "cell_type": "code",
   "execution_count": null,
   "id": "c151f265",
   "metadata": {},
   "outputs": [
    {
     "data": {
      "text/html": [
       "<div>\n",
       "<style scoped>\n",
       "    .dataframe tbody tr th:only-of-type {\n",
       "        vertical-align: middle;\n",
       "    }\n",
       "\n",
       "    .dataframe tbody tr th {\n",
       "        vertical-align: top;\n",
       "    }\n",
       "\n",
       "    .dataframe thead th {\n",
       "        text-align: right;\n",
       "    }\n",
       "</style>\n",
       "<table border=\"1\" class=\"dataframe\">\n",
       "  <thead>\n",
       "    <tr style=\"text-align: right;\">\n",
       "      <th></th>\n",
       "      <th>month_year</th>\n",
       "      <th>country</th>\n",
       "      <th>avg_currency_rate</th>\n",
       "    </tr>\n",
       "  </thead>\n",
       "  <tbody>\n",
       "    <tr>\n",
       "      <th>0</th>\n",
       "      <td>2022-01</td>\n",
       "      <td>Brunei</td>\n",
       "      <td>1.351418</td>\n",
       "    </tr>\n",
       "    <tr>\n",
       "      <th>1</th>\n",
       "      <td>2022-01</td>\n",
       "      <td>Indonesia</td>\n",
       "      <td>14327.056094</td>\n",
       "    </tr>\n",
       "    <tr>\n",
       "      <th>2</th>\n",
       "      <td>2022-01</td>\n",
       "      <td>Cambodia</td>\n",
       "      <td>4072.629258</td>\n",
       "    </tr>\n",
       "    <tr>\n",
       "      <th>3</th>\n",
       "      <td>2022-01</td>\n",
       "      <td>Laos</td>\n",
       "      <td>11272.253421</td>\n",
       "    </tr>\n",
       "    <tr>\n",
       "      <th>4</th>\n",
       "      <td>2022-01</td>\n",
       "      <td>Myanmar</td>\n",
       "      <td>1777.280733</td>\n",
       "    </tr>\n",
       "  </tbody>\n",
       "</table>\n",
       "</div>"
      ],
      "text/plain": [
       "  month_year    country  avg_currency_rate\n",
       "0    2022-01     Brunei           1.351418\n",
       "1    2022-01  Indonesia       14327.056094\n",
       "2    2022-01   Cambodia        4072.629258\n",
       "3    2022-01       Laos       11272.253421\n",
       "4    2022-01    Myanmar        1777.280733"
      ]
     },
     "execution_count": 71,
     "metadata": {},
     "output_type": "execute_result"
    }
   ],
   "source": [
    "currency_df = pd.DataFrame(currency_df)\n",
    "#ccolumn naming convention\n",
    "currency_df = currency_df.rename(columns={\n",
    "    \"Currency\": \"country\",\n",
    "    \"YearMonth\": \"month_year\",\n",
    "    \"AverageRate\": \"avg_currency_rate\"\n",
    "})\n",
    "# map currency to country\n",
    "currency_to_country = {\n",
    "    \"BND\": \"Brunei\",\n",
    "    \"IDR\": \"Indonesia\",\n",
    "    \"KHR\": \"Cambodia\",\n",
    "    \"LAK\": \"Laos\",\n",
    "    \"MMK\": \"Myanmar\",\n",
    "    \"MYR\": \"Malaysia\",\n",
    "    \"PHP\": \"Philippines\",\n",
    "    \"SGD\": \"Singapore\",\n",
    "    \"THB\": \"Thailand\",\n",
    "    \"VND\": \"Vietnam\"\n",
    "}\n",
    "currency_df[\"country\"] = currency_df[\"country\"].map(currency_to_country)\n",
    "#correct datetime format\n",
    "currency_df['month_year'] = pd.to_datetime(currency_df['month_year']).dt.strftime(\"%Y-%m\")\n",
    "#log transform\n",
    "currency_df['avg_currency_rate'] = np.log1p(currency_df['avg_currency_rate'])\n",
    "\n",
    "#lag by 1 moth\n",
    "currency_df = currency_df.sort_values(['country', 'month_year'])\n",
    "currency_df['avg_currency_rate_lag1'] = (\n",
    "    currency_df.groupby('country')['avg_currency_rate']\n",
    "    .shift(periods=1)  # Shift down by 1 row\n",
    ")\n",
    "\n",
    "currency_df.head()"
   ]
  },
  {
   "cell_type": "markdown",
   "id": "ecb16636",
   "metadata": {},
   "source": [
    "## Prepare google trend dataframe"
   ]
  },
  {
   "cell_type": "code",
   "execution_count": null,
   "id": "911ca0af",
   "metadata": {},
   "outputs": [
    {
     "ename": "NameError",
     "evalue": "name 'trend_df' is not defined",
     "output_type": "error",
     "traceback": [
      "\u001b[0;31m---------------------------------------------------------------------------\u001b[0m",
      "\u001b[0;31mNameError\u001b[0m                                 Traceback (most recent call last)",
      "Cell \u001b[0;32mIn[72], line 1\u001b[0m\n\u001b[0;32m----> 1\u001b[0m trend_df \u001b[38;5;241m=\u001b[39m pd\u001b[38;5;241m.\u001b[39mDataFrame(trend_df)\n\u001b[1;32m      2\u001b[0m trend_df \u001b[38;5;241m=\u001b[39m google_trend_df\u001b[38;5;241m.\u001b[39mrename(columns\u001b[38;5;241m=\u001b[39m{\u001b[38;5;124m\"\u001b[39m\u001b[38;5;124mvalue\u001b[39m\u001b[38;5;124m\"\u001b[39m: \u001b[38;5;124m\"\u001b[39m\u001b[38;5;124mgoogle_trend_score\u001b[39m\u001b[38;5;124m\"\u001b[39m})\n\u001b[1;32m      3\u001b[0m trend_df[\u001b[38;5;124m'\u001b[39m\u001b[38;5;124mmonth_year\u001b[39m\u001b[38;5;124m'\u001b[39m] \u001b[38;5;241m=\u001b[39m pd\u001b[38;5;241m.\u001b[39mto_datetime(trend_df[\u001b[38;5;124m'\u001b[39m\u001b[38;5;124mmonth_year\u001b[39m\u001b[38;5;124m'\u001b[39m])\n",
      "\u001b[0;31mNameError\u001b[0m: name 'trend_df' is not defined"
     ]
    }
   ],
   "source": [
    "trend_df = pd.DataFrame(trend_df)\n",
    "trend_df = google_trend_df.rename(columns={\"value\": \"google_trend_score\"})\n",
    "trend_df['month_year'] = pd.to_datetime(trend_df['month_year'])\n",
    "trend_df = trend_df.drop(columns=['_id'])\n",
    "# interpolate, forward fill, then backward fill within each country group\n",
    "trend_df[\"google_trend_score\"] = (\n",
    "    trend_df\n",
    "    .groupby(\"country\")[\"google_trend_score\"]\n",
    "    .apply(lambda group: (\n",
    "        group.interpolate(method='linear', limit_direction='both')  # interpolate\n",
    "             .fillna(method='ffill')                                # fill leading NaNs\n",
    "             .fillna(method='bfill')                                # fill trailing NaNs\n",
    "    ))\n",
    "    .reset_index(level=0, drop=True)\n",
    ")\n",
    "\n",
    "#lag by 1 moth\n",
    "trend_df = trend_df.sort_values(['country', 'month_year'])\n",
    "trend_df['google_trend_score_lag1'] = (\n",
    "    trend_df.groupby('country')['google_trend_score']\n",
    "    .shift(periods=1)  # Shift down by 1 row\n",
    ")"
   ]
  },
  {
   "cell_type": "markdown",
   "id": "32719f71",
   "metadata": {},
   "source": [
    "## Prepare number of visitors dataframe"
   ]
  },
  {
   "cell_type": "code",
   "execution_count": null,
   "id": "b3248a37",
   "metadata": {},
   "outputs": [],
   "source": [
    "visitors_df = visitors_df.rename(columns={\"value\": \"num_visitors\"})\n",
    "#log transform\n",
    "visitors_df[\"num_visitors\"] = np.log1p(visitors_df['num_visitors'])\n",
    "# interpolate, forward fill, then backward fill within each country group\n",
    "visitors_df[\"num_visitors\"] = (\n",
    "    visitors_df\n",
    "    .groupby(\"country\")[\"num_visitors\"]\n",
    "    .apply(lambda group: (\n",
    "        group.interpolate(method='linear', limit_direction='both')  # interpolate\n",
    "             .fillna(method='ffill')                                # fill leading NaNs\n",
    "             .fillna(method='bfill')                                # fill trailing NaNs\n",
    "    ))\n",
    "    .reset_index(level=0, drop=True)\n",
    ")\n",
    "visitors_df.head(5)"
   ]
  }
 ],
 "metadata": {
  "kernelspec": {
   "display_name": "base",
   "language": "python",
   "name": "python3"
  },
  "language_info": {
   "codemirror_mode": {
    "name": "ipython",
    "version": 3
   },
   "file_extension": ".py",
   "mimetype": "text/x-python",
   "name": "python",
   "nbconvert_exporter": "python",
   "pygments_lexer": "ipython3",
   "version": "3.12.4"
  }
 },
 "nbformat": 4,
 "nbformat_minor": 5
}
