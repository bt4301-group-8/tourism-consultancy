{
 "cells": [
  {
   "cell_type": "code",
   "execution_count": 1,
   "metadata": {},
   "outputs": [
    {
     "name": "stdout",
     "output_type": "stream",
     "text": [
      "/Users/aldensio/Desktop/Projects/tourism-consultancy/backend\n"
     ]
    }
   ],
   "source": [
    "%cd ../.."
   ]
  },
  {
   "cell_type": "code",
   "execution_count": 2,
   "metadata": {},
   "outputs": [],
   "source": [
    "import pandas as pd\n",
    "import os"
   ]
  },
  {
   "cell_type": "code",
   "execution_count": 3,
   "metadata": {},
   "outputs": [],
   "source": [
    "# TODO: replace with relational db pulling\n",
    "final_df = pd.read_csv('data/processed/final_df.csv')"
   ]
  },
  {
   "cell_type": "code",
   "execution_count": 4,
   "metadata": {},
   "outputs": [
    {
     "data": {
      "text/plain": [
       "Index(['month_year', 'country', 'avg_currency_rate', 'google_trend_score',\n",
       "       'num_visitors', 'trip_advisor_rating', 'reddit_sentiment',\n",
       "       'ig_sentiment', 'log_visitors', 'log_currency',\n",
       "       'reddit_sentiment_label', 'ig_sentiment_label',\n",
       "       'reddit_under-performing', 'reddit_normal', 'reddit_outperforming',\n",
       "       'ig_under-performing', 'ig_normal', 'ig_outperforming',\n",
       "       'reddit_sentiment_z', 'ig_sentiment_z', 'is_holiday',\n",
       "       'is_monsoon_season', 'google_trend_score_lag1',\n",
       "       'avg_currency_rate_lag1', 'reddit_sentiment_lag1', 'ig_sentiment_lag1'],\n",
       "      dtype='object')"
      ]
     },
     "execution_count": 4,
     "metadata": {},
     "output_type": "execute_result"
    }
   ],
   "source": [
    "final_df.columns"
   ]
  },
  {
   "cell_type": "code",
   "execution_count": null,
   "metadata": {},
   "outputs": [],
   "source": [
    "def split_into_countries(\n",
    "    df: pd.DataFrame,\n",
    "    directory: str = 'data/processed/countries',\n",
    "    trailing_name: str = \"_final_df.csv\"\n",
    ") -> None:\n",
    "    countries = df['country'].unique()\n",
    "    os.makedirs(directory, exist_ok=True)\n",
    "    # split by country and save individual files\n",
    "    for country in countries:\n",
    "        # filter data for this country\n",
    "        country_df = df[df['country'] == country]\n",
    "        # create filename with country name\n",
    "        file_path = f'{directory}/{country.lower()}{trailing_name}'\n",
    "        country_df.to_csv(file_path, index=False)\n",
    "        print(f\"saved data for {country} to {file_path}\")"
   ]
  },
  {
   "cell_type": "code",
   "execution_count": 6,
   "metadata": {},
   "outputs": [
    {
     "name": "stdout",
     "output_type": "stream",
     "text": [
      "saved data for Brunei to data/processed/countries/brunei_final_df.csv\n",
      "saved data for Cambodia to data/processed/countries/cambodia_final_df.csv\n",
      "saved data for Indonesia to data/processed/countries/indonesia_final_df.csv\n",
      "saved data for Laos to data/processed/countries/laos_final_df.csv\n",
      "saved data for Malaysia to data/processed/countries/malaysia_final_df.csv\n",
      "saved data for Myanmar to data/processed/countries/myanmar_final_df.csv\n",
      "saved data for Philippines to data/processed/countries/philippines_final_df.csv\n",
      "saved data for Singapore to data/processed/countries/singapore_final_df.csv\n",
      "saved data for Thailand to data/processed/countries/thailand_final_df.csv\n",
      "saved data for Vietnam to data/processed/countries/vietnam_final_df.csv\n"
     ]
    }
   ],
   "source": [
    "split_into_countries(final_df)"
   ]
  },
  {
   "cell_type": "code",
   "execution_count": null,
   "metadata": {},
   "outputs": [],
   "source": []
  }
 ],
 "metadata": {
  "kernelspec": {
   "display_name": "Python 3",
   "language": "python",
   "name": "python3"
  },
  "language_info": {
   "codemirror_mode": {
    "name": "ipython",
    "version": 3
   },
   "file_extension": ".py",
   "mimetype": "text/x-python",
   "name": "python",
   "nbconvert_exporter": "python",
   "pygments_lexer": "ipython3",
   "version": "3.11.5"
  }
 },
 "nbformat": 4,
 "nbformat_minor": 2
}
